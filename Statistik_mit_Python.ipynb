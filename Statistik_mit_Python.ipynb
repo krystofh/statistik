{
 "cells": [
  {
   "cell_type": "markdown",
   "metadata": {},
   "source": [
    "# Python (Python 3) - NumPy - SciPy\n",
    "\n",
    "## Wichtige Funktionalitäten für die LV \"Statistik\"\n",
    "\n",
    "Der wesentliche Inhalt dieses Notebooks entstammt der folgenden Quelle: https://www.python-kurs.eu/python3_kurs.php  \n",
    "Diese Seite ist ausgezeichnet geeignet, um Python-Grundlagen interaktiv zu erlernen.  \n",
    "Dazu gehören folgende zwei Lehrbücher:  \n",
    "**\"Numerisches Python: Arbeiten mit NumPy, Matplotlib und Pandas\"**  \n",
    "https://www.hanser-fachbuch.de/buch/Numerisches+Python/9783446450769  \n",
    "**\"Einführung in Python3: Für Ein- und Umsteiger\"**  \n",
    "http://www.hanser-fachbuch.de/buch/Einfuehrung+in+Python+3/9783446452084\n",
    "\n",
    "\n",
    "### Ausführen von Python-Code im Gegensatz zur Nutzung der interaktiven Shell\n",
    "\n",
    "Bei Nutzung von Jupyter-Notebook genügt es, den Programmcode in eine \"Code\"-Zelle einzutragen und mittels Run-Button zu starten. \n",
    "\n",
    "- Die Strukturierung innerhalb eines Programms erfolgt mittels Einrücken.\n",
    "\n",
    "    Anweisungskopf:\n",
    "        Anweisung  \n",
    "        .  \n",
    "        Anweisung  \n",
    "    \n",
    "- Variablen benötigen keine Typdeklaration.\n",
    "- Seit Python3 ist das Resultat der Division zweier Integer-Werte automatisch float.\n",
    "- Eine Variable ist nach Zuweisung automatisch lokal in diesem Block, es sei denn man hat sie explizit mit dem Schlüsselwort \"global\" definiert."
   ]
  },
  {
   "cell_type": "code",
   "execution_count": 1,
   "metadata": {
    "scrolled": true
   },
   "outputs": [
    {
     "name": "stdout",
     "output_type": "stream",
     "text": [
      "Python für Statistik\n",
      "1 2 0.5\n",
      "1 3 0.3333333333333333\n",
      "1 4 0.25\n",
      "2 4 0.5\n"
     ]
    }
   ],
   "source": [
    "print (\"Python für Statistik\")\n",
    "\n",
    "from math import sqrt\n",
    "n = 10\n",
    "for a in range(1,n):\n",
    "    for b in range(a,int(n/2)):\n",
    "        c = a / b\n",
    "        if (c <= .5):\n",
    "            print(a, b, c)"
   ]
  },
  {
   "cell_type": "markdown",
   "metadata": {},
   "source": [
    "### Datentypen in Python\n",
    "#### Datentypen für Zahlen\n",
    "\n",
    "- Ganzzahl: Integer, Oktal, Hexadezimal, Binär, \n",
    "- Float\n",
    "- Complex\n",
    "\n",
    "#### Andere Datentypen\n",
    "\n",
    "- String: s=\"Hallo\"  (Zeichenkette)\n",
    "- Liste: l=[1, 2, 3] (Veränderbare Liste mit Reihenfolge)\n",
    "- Tupel: t=(1, 2, 3) (Unveränderbare Liste mit Reihenfolge)\n",
    "- Dictionary: d={1: \"eins\", 2: \"zwei\", 3: \"drei\"}  (Assoziatives Array)\n",
    "\n",
    "Für Mathematik in der Statistik benötigen wir Arrays (Felder). Diese sind Bestandteil des Moduls NumPy.\n",
    "\n",
    "### Module und deren Nutzung\n",
    "\n",
    "In Python unterscheide man zwei Arten von Modulen:\n",
    "\n",
    "- Bibliotheken (Libraries)\n",
    "  Stellen Datentypen und Funktionen für alle Python-Programme bereit. Es gibt:\n",
    "        - umfangreiche Standardbibliotheken\n",
    "        - eigene Module\n",
    "        - Module von Drittanbietern \n",
    "- lokale Module\n",
    "    \n",
    "Ein Modul, egal ob aus der Standardbibliothek oder einer eigenen, wird mit der import-Anweisung eingebunden.\n",
    "\n",
    "Einige Beispiele:\n",
    "- mehrere Module können auf einmal importiert werden, deren Namen stehen dann in einem eigenen Namensraum zur Verfügung\n",
    "- einzelne Methoden/Funktionen können auch selektiv ausgewählt werden, die anderen Methoden der Bibliohek stehen dann nicht zur Verfügung\n",
    "- der Namensraum kann auch umbenannt werden"
   ]
  },
  {
   "cell_type": "code",
   "execution_count": 84,
   "metadata": {},
   "outputs": [
    {
     "name": "stdout",
     "output_type": "stream",
     "text": [
      "3.141592653589793 1.0 6.123233995736766e-17 -1.0\n"
     ]
    }
   ],
   "source": [
    "import math\n",
    "pi = math.pi\n",
    "sin_pi_2 = math.sin(math.pi/2)\n",
    "cos_pi_2 = math.cos(math.pi/2)\n",
    "cos_pi = math.cos(math.pi)\n",
    "print (pi, sin_pi_2, cos_pi_2, cos_pi)"
   ]
  },
  {
   "cell_type": "code",
   "execution_count": 3,
   "metadata": {
    "scrolled": true
   },
   "outputs": [
    {
     "name": "stdout",
     "output_type": "stream",
     "text": [
      "3.1415\n",
      "3.141592653589793\n"
     ]
    }
   ],
   "source": [
    "pi = 3.1415\n",
    "print (pi)\n",
    "from math import pi\n",
    "print (pi)"
   ]
  },
  {
   "cell_type": "code",
   "execution_count": 4,
   "metadata": {
    "scrolled": true
   },
   "outputs": [
    {
     "name": "stdout",
     "output_type": "stream",
     "text": [
      "1.2246467991473532e-16\n"
     ]
    }
   ],
   "source": [
    "import math as m\n",
    "sin_pi = m.sin(m.pi)\n",
    "print (sin_pi)"
   ]
  },
  {
   "cell_type": "markdown",
   "metadata": {},
   "source": [
    "# Module für mathematische (statistische) Berechnungen\n",
    "\n",
    "Numerisches Python (Numerisches Programmieren) bedeutet hier \"Math. Programmieren mit Zahlen\".\n",
    "Reines Python (ohne numerische Spezialmodule) würde sich nicht besonders gut eignen für unsere Aufgaben in der Statistik. Deshalb nutzen wir Python in Kombination mit Modulen wie NumPy, SciPy, Matplotlib und Pandas:\n",
    "\n",
    "- **NumPy:** implementiert mehrdimensionale Arrays und Matrizen und stellt grundlegende Funktionalitäten zur Erzeugung und Manipulation solcher Datenstrukturen zur Verfügung\n",
    "- **SciPy:** benutzt die von NumPy bereitgestellten Datenstrukturen und erweitert die Leistungsfähigkeit um komplexere math. Funktionen, wie u. a. auch statistische Funktionen.\n",
    "- **MathPlotlib:** Erweitert die Funktionalität um aussagekräftige grafische Darstellungen.\n",
    "- **Pandas:** stellt Datenstrukturen und Operationen zur Manipulation von Tabellen und Zeitreihen bereit\n",
    "\n",
    "# NumPy\n",
    "\n",
    "## Datenstruktur array\n",
    "Beispiele:"
   ]
  },
  {
   "cell_type": "code",
   "execution_count": 3,
   "metadata": {},
   "outputs": [
    {
     "name": "stdout",
     "output_type": "stream",
     "text": [
      "[20.1 20.8 21.9 22.5 22.7 21.8 21.3 20.9 20.1] <class 'numpy.ndarray'> <class 'list'>\n"
     ]
    }
   ],
   "source": [
    "import numpy as np\n",
    "# Definition einer Liste von Temperaturwerten (\"Standard\"-Python)\n",
    "tvalues = [20.1, 20.8, 21.9, 22.5, 22.7, 21.8, 21.3, 20.9, 20.1]\n",
    "T = np.array(tvalues)\n",
    "print(T, type(T), type(tvalues))"
   ]
  },
  {
   "cell_type": "code",
   "execution_count": 4,
   "metadata": {},
   "outputs": [
    {
     "name": "stdout",
     "output_type": "stream",
     "text": [
      "[68.18 69.44 71.42 72.5  72.86 71.24 70.34 69.62 68.18]\n",
      "[20.1 20.8 21.9 22.5 22.7 21.8 21.3 20.9 20.1]\n"
     ]
    }
   ],
   "source": [
    "# auf diesem array sind skalare Operationen einfach möglich, z.B. Umrechnung in Grad Fahrenheit\n",
    "print(T * 9 / 5 + 32)\n",
    "# das array T selbst wird dabei nicht verändert\n",
    "print (T)"
   ]
  },
  {
   "cell_type": "code",
   "execution_count": 7,
   "metadata": {
    "scrolled": true
   },
   "outputs": [
    {
     "data": {
      "image/png": "[encoded data removed]",
      "text/plain": [
       "<Figure size 432x288 with 1 Axes>"
      ]
     },
     "metadata": {
      "needs_background": "light"
     },
     "output_type": "display_data"
    }
   ],
   "source": [
    "# Grafische Darstellung\n",
    "%matplotlib inline\n",
    "import matplotlib.pyplot as plt\n",
    "plt.plot(T)\n",
    "plt.show()"
   ]
  },
  {
   "cell_type": "code",
   "execution_count": 8,
   "metadata": {},
   "outputs": [
    {
     "name": "stdout",
     "output_type": "stream",
     "text": [
      "[68.18, 69.44, 71.42, 72.5, 72.86, 71.24000000000001, 70.34, 69.62, 68.18]\n"
     ]
    }
   ],
   "source": [
    "# Eine Implementierung mittels Python-Liste ist ebenfalls möglich mithilfe der sogenannten \n",
    "# Listenabstraktion (aber umständlicher)\n",
    "fvalues = [ x*9/5 + 32 for x in tvalues] \n",
    "print(fvalues)"
   ]
  },
  {
   "cell_type": "markdown",
   "metadata": {},
   "source": [
    "weitere Vorteile von NumPy-Arrays sind ein **geringerer Speicherverbrauch** und ein **besseres Laufzeitverhalten**\n",
    "\n",
    "## Erzeugen von arrays\n",
    "\n",
    "**arange** liefert gleichmäßig verteilte Werte innerhalb eines gegebenen Intervalles zurück\n",
    "\n",
    "\n",
    "#### Syntax von arange\n",
    "\n",
    "arange([start,] stop[, step], [, dtype=None])\n",
    "\n",
    "Die Werte werden innerhalb des halb-offenen Intervalles [start, stop) generiert. Wird diese Funktion mit Integer-Werten benutzt, ist sie beinahe äquivalent zu der built-in Python-Funktion range. arange liefert jedoch ein ndarray zurück, während range einen Listen-Iterator zurückliefert. \n",
    "\n",
    "Falls der start-Parameter nicht übergeben wird, wird start auf 0 gesetzt. Das Ende des Intervalls wird durch den Parameter stop bestimmt. Üblicherweise wird das Intervall diesen Wert nicht beinhalten, außer in den Fällen, in denen step keine Ganzzahl ist und floating-point-Effekte die Länge des Ausgabearrays beeinflussen.\n",
    "\n",
    "Der Abstand zwischen zwei benachbarten Werten des Ausgabearrays kann mittels des optionalen Parameters step gesetzt werden. Der Default-Wert für step ist 1.\n",
    "\n",
    "Falls ein Wert für step angegeben wird, kann der start-Parameter nicht mehr optional sein, d.h. er muss dann auch angegeben werden.\n",
    "\n",
    "Der Typ des Ausgabearrays kann mit dem Parameter dtype bestimmt werden. Wird er nicht angegeben, wird der Typ automatisch aus den übergebenen Eingabewerten ermittelt."
   ]
  },
  {
   "cell_type": "code",
   "execution_count": 9,
   "metadata": {
    "scrolled": true
   },
   "outputs": [
    {
     "name": "stdout",
     "output_type": "stream",
     "text": [
      "[1 2 3 4 5 6]\n",
      "range(1, 7)\n",
      "[1, 2, 3, 4, 5, 6]\n",
      "[0. 1. 2. 3. 4. 5. 6. 7.]\n",
      "[0.5 1.3 2.1 2.9 3.7 4.5 5.3]\n",
      "[0 1 2 3 4 5 6]\n"
     ]
    }
   ],
   "source": [
    "import numpy as np\n",
    "a = np.arange(1, 7)\n",
    "print(a)\n",
    "# im Vergleich dazu nun range:\n",
    "x = range(1, 7)\n",
    "print(x)    # x ist ein Iterator\n",
    "print(list(x))\n",
    "# weitere arange-Beispiele:\n",
    "x = np.arange(7.3)\n",
    "print(x)\n",
    "x = np.arange(0.5, 6.1, 0.8)\n",
    "print(x)\n",
    "x = np.arange(0.5, 6.1, 0.8, int)\n",
    "print(x)"
   ]
  },
  {
   "cell_type": "markdown",
   "metadata": {},
   "source": [
    "#### Syntax von linspace\n",
    "\n",
    "linspace(start, stop, num=50, endpoint=True, retstep=False)\n",
    "\n",
    "**linspace** liefert ein ndarray zurück, welches aus 'num' gleichmäßig verteilten Werten aus dem geschlossenen Interval ['start', 'stop'] oder dem halb-offenen Intervall ['start', 'stop') besteht. Ob ein geschlossenes oder ein halb-offenes Intervall zurückgeliefert wird, hängt vom Wert des Parameters endpoint ab. stop ist der letzte Wert des Intervalls, falls endpoint nicht auf False gesetzt ist. Die Schrittweite ist unterschiedlich, je nachdem, ob endpoint True oder False ist:"
   ]
  },
  {
   "cell_type": "code",
   "execution_count": 10,
   "metadata": {
    "scrolled": true
   },
   "outputs": [
    {
     "name": "stdout",
     "output_type": "stream",
     "text": [
      "[ 1.          1.18367347  1.36734694  1.55102041  1.73469388  1.91836735\n",
      "  2.10204082  2.28571429  2.46938776  2.65306122  2.83673469  3.02040816\n",
      "  3.20408163  3.3877551   3.57142857  3.75510204  3.93877551  4.12244898\n",
      "  4.30612245  4.48979592  4.67346939  4.85714286  5.04081633  5.2244898\n",
      "  5.40816327  5.59183673  5.7755102   5.95918367  6.14285714  6.32653061\n",
      "  6.51020408  6.69387755  6.87755102  7.06122449  7.24489796  7.42857143\n",
      "  7.6122449   7.79591837  7.97959184  8.16326531  8.34693878  8.53061224\n",
      "  8.71428571  8.89795918  9.08163265  9.26530612  9.44897959  9.63265306\n",
      "  9.81632653 10.        ]\n",
      "[ 1.   2.5  4.   5.5  7.   8.5 10. ]\n",
      "[1.         2.28571429 3.57142857 4.85714286 6.14285714 7.42857143\n",
      " 8.71428571]\n"
     ]
    }
   ],
   "source": [
    "import numpy as np\n",
    "# 50 Werte (Default) zwischen 1 und 10:\n",
    "print(np.linspace(1, 10))\n",
    "# 7 Werte zwischen 1 und 10:\n",
    "print(np.linspace(1, 10, 7))\n",
    "# jetzt ohne Endpunkt:\n",
    "print(np.linspace(1, 10, 7, endpoint=False))"
   ]
  },
  {
   "cell_type": "markdown",
   "metadata": {},
   "source": [
    "### Nulldimensionale Arrays in NumPy\n",
    "\n",
    "In NumPy kann man mehrdimensionale Arrays erzeugen. Skalare sind 0-dimensional. Im folgenden Beispiel erzeugen wir den Skalar 42. Wenden wir die ndim-Methode auf unseren Skalar an, erhalten wir die Dimension des Arrays. Wir können außerdem sehen, dass das Array vom Typ numpy.ndarray ist."
   ]
  },
  {
   "cell_type": "code",
   "execution_count": 11,
   "metadata": {},
   "outputs": [
    {
     "name": "stdout",
     "output_type": "stream",
     "text": [
      "x:  42\n",
      "Typ von x:  <class 'numpy.ndarray'>\n",
      "Dimension von x: 0\n"
     ]
    }
   ],
   "source": [
    "import numpy as np\n",
    "x = np.array(42)\n",
    "print(\"x: \", x)\n",
    "print(\"Typ von x: \", type(x))\n",
    "print(\"Dimension von x:\", np.ndim(x))"
   ]
  },
  {
   "cell_type": "markdown",
   "metadata": {},
   "source": [
    "### Eindimensionales Array\n",
    "\n",
    "Wir haben bereits in unserem anfänglichen Beispiel ein eindimensionales Array (besser als Vektor bekannt) gesehen. Weiterhin gilt, dass NumPy-Arrays Container sind, die nur einen Typ enthalten können, also beispielsweise nur Integers. Den homogenen Datentyp eines Arrays können wir mit dem Attribut dtype bestimmen, wie wir im folgenden Beispiel sehen können:"
   ]
  },
  {
   "cell_type": "code",
   "execution_count": 12,
   "metadata": {
    "scrolled": true
   },
   "outputs": [
    {
     "name": "stdout",
     "output_type": "stream",
     "text": [
      "F:  [ 1  1  2  3  5  8 13 21]\n",
      "V:  [ 3.4  6.9 99.8 12.8]\n",
      "Typ von F:  int64\n",
      "Typ von V:  float64\n",
      "Dimension von F:  1\n",
      "Dimension von V:  1\n"
     ]
    }
   ],
   "source": [
    "F = np.array([1, 1, 2, 3, 5, 8, 13, 21])\n",
    "V = np.array([3.4, 6.9, 99.8, 12.8])\n",
    "print(\"F: \", F)\n",
    "print(\"V: \", V)\n",
    "print(\"Typ von F: \", F.dtype)\n",
    "print(\"Typ von V: \", V.dtype)\n",
    "print(\"Dimension von F: \", np.ndim(F))\n",
    "print(\"Dimension von V: \", np.ndim(V))"
   ]
  },
  {
   "cell_type": "markdown",
   "metadata": {},
   "source": [
    "### Zwei- und Mehrdimensionale Arrays\n",
    "\n",
    "Natürlich sind die Arrays in NumPy nicht auf eine Dimension beschränkt. Sie können eine beliebige Anzahl von Dimensionen haben. Wir erzeugen sie, indem wir verschachtelte Listen (oder Tupel) an die array-Methode von NumPy übergeben:"
   ]
  },
  {
   "cell_type": "code",
   "execution_count": 13,
   "metadata": {},
   "outputs": [
    {
     "name": "stdout",
     "output_type": "stream",
     "text": [
      "[[ 3.4  8.7  9.9]\n",
      " [ 1.1 -7.8 -0.7]\n",
      " [ 4.1 12.3  4.8]]\n",
      "2\n"
     ]
    }
   ],
   "source": [
    "A = np.array([ [3.4, 8.7, 9.9], \n",
    "               [1.1, -7.8, -0.7],\n",
    "               [4.1, 12.3, 4.8]])\n",
    "print(A)\n",
    "print(A.ndim)"
   ]
  },
  {
   "cell_type": "markdown",
   "metadata": {},
   "source": [
    "### Shape/Gestalt eines Arrays\n",
    "\n",
    "Die Funktion **shape** liefert die Größe bzw. die Gestalt eines Arrays in Form eines Integer-Tupels zurück. Diese Zahlen bezeichnen die Längen der entsprechenden Array-Dimensionen, d.h. im zweidimensionalen Fall den Zeilen und Spalten. In anderen Worten: Die Gestalt oder Shape eines Arrays ist ein Tupel mit der Anzahl der Elemente pro Achse (Dimension). In unserem Beispiel ist die Shape gleich (6, 3). Das bedeutet, das wir sechs Zeilen und drei Spalten haben. "
   ]
  },
  {
   "cell_type": "code",
   "execution_count": 14,
   "metadata": {},
   "outputs": [
    {
     "name": "stdout",
     "output_type": "stream",
     "text": [
      "(6, 3)\n",
      "(6, 3)\n"
     ]
    }
   ],
   "source": [
    "x = np.array([ [67, 63, 87],\n",
    "               [77, 69, 59],\n",
    "               [85, 87, 99],\n",
    "               [79, 72, 71],\n",
    "               [63, 89, 93],\n",
    "               [68, 92, 78]])\n",
    "print(np.shape(x))\n",
    "\n",
    "# Es gibt auch eine äquivalente Array-Property:\n",
    "\n",
    "print(x.shape)\n"
   ]
  },
  {
   "cell_type": "markdown",
   "metadata": {},
   "source": [
    "Die Shape eines Arrays sagt uns auch etwas über die Reihenfolge, in der die Indizes ausgeführt werden, d.h. zuerst die Zeilen, dann die Spalten und dann gegebenenfalls eine weitere Dimension oder weitere Dimensionen.\n",
    "\n",
    "**shape** kann auch dazu genutzt werden, die \"Shape\" eines Arrays zu ändern:"
   ]
  },
  {
   "cell_type": "code",
   "execution_count": 15,
   "metadata": {
    "scrolled": false
   },
   "outputs": [
    {
     "name": "stdout",
     "output_type": "stream",
     "text": [
      "[[67 63 87 77 69 59]\n",
      " [85 87 99 79 72 71]\n",
      " [63 89 93 68 92 78]]\n",
      "[[67 63 87 77 69 59 85 87 99]\n",
      " [79 72 71 63 89 93 68 92 78]]\n"
     ]
    }
   ],
   "source": [
    "x.shape = (3, 6)\n",
    "print(x)\n",
    "\n",
    "x.shape = (2, 9)\n",
    "print(x)\n",
    "\n",
    "# Wichtig: die neue Shape muss der Anzahl der Elemente des Arrays entsprechen, \n",
    "# d.h. die totale Größe des neuen Arrays muss die gleiche wie die alte sein\n",
    "# z.B. ist x.shape = (4, 4) nicht möglich"
   ]
  },
  {
   "cell_type": "markdown",
   "metadata": {},
   "source": [
    "Im Folgenden sehen wir die Shape eines dreidimensionalen Arrays:"
   ]
  },
  {
   "cell_type": "code",
   "execution_count": 16,
   "metadata": {},
   "outputs": [
    {
     "name": "stdout",
     "output_type": "stream",
     "text": [
      "(3, 2, 2)\n",
      "221\n"
     ]
    }
   ],
   "source": [
    "B = np.array([ [[111, 112], [121, 122]],\n",
    "               [[211, 212], [221, 222]],\n",
    "               [[311, 312], [321, 322]] ])\n",
    "print(B.shape)\n",
    "print(B[1][1][0])"
   ]
  },
  {
   "cell_type": "markdown",
   "metadata": {},
   "source": [
    "### Indizierung und Teilbereichsoperator\n",
    "\n",
    "Der Zugriff oder die Zuweisung an die Elemente eines Arrays funktioniert ähnlich wie bei den sequentiellen Datentypen von Python, d.h. den Listen und Tupeln. Außerdem haben wir verschiedene Möglichkeiten zu indizieren. Dies macht das Indizieren in NumPy sehr mächtig und ähnlich zum Indizieren und dem Teilbereichsoperator der Listen.\n",
    "\n",
    "Einzelne Elemente zu indizieren, funktioniert so, wie es die meisten wahrscheinlich erwarten:"
   ]
  },
  {
   "cell_type": "code",
   "execution_count": 17,
   "metadata": {},
   "outputs": [
    {
     "name": "stdout",
     "output_type": "stream",
     "text": [
      "1\n",
      "21\n"
     ]
    }
   ],
   "source": [
    "F = np.array([1, 1, 2, 3, 5, 8, 13, 21])\n",
    "# Ausgabe des ersten Elements von F\n",
    "print(F[0])\n",
    "# Ausgabe letztes Element von F\n",
    "print(F[-1])"
   ]
  },
  {
   "cell_type": "markdown",
   "metadata": {},
   "source": [
    "Mehrdimensionale Arrays indizieren:  \n",
    "Wir greifen zu auf das Element in der zweiten Zeile (Index 1) und der ersten Spalte (Index 0). "
   ]
  },
  {
   "cell_type": "code",
   "execution_count": 18,
   "metadata": {},
   "outputs": [
    {
     "name": "stdout",
     "output_type": "stream",
     "text": [
      "1.1\n",
      "121\n",
      "1.1\n",
      "121\n"
     ]
    }
   ],
   "source": [
    "A = np.array([ [3.4, 8.7, 9.9], \n",
    "               [1.1, -7.8, -0.7],\n",
    "               [4.1, 12.3, 4.8]])\n",
    "print(A[1][0])\n",
    "B = np.array([ [[111, 112], [121, 122]],\n",
    "               [[211, 212], [221, 222]],\n",
    "               [[311, 312], [321, 322]] ])\n",
    "print(B[0][1][0])\n",
    "\n",
    "# Oder: Effizientere Alternative: Wir benutzen nur ein Klammernpaar, und alle Indizes werden \n",
    "# mit Kommas separiert:\n",
    "\n",
    "print (A[1, 0])\n",
    "print (B[0, 1, 0])\n"
   ]
  },
  {
   "cell_type": "markdown",
   "metadata": {},
   "source": [
    "Die allgemeine Syntax für die Nutzung von **Teilbereichsoperatoren** (slicing) für den eindimensionalen Fall lautet wie folgt:\n",
    "\n",
    "[start:stop:step]\n",
    "\n",
    "Wir demonstrieren die Arbeitsweise des Teilbereichsoperators an einigen Beispielen und beginnen mit dem einfachsten Fall, also dem eindimensionalen Array:"
   ]
  },
  {
   "cell_type": "code",
   "execution_count": 19,
   "metadata": {
    "scrolled": true
   },
   "outputs": [
    {
     "name": "stdout",
     "output_type": "stream",
     "text": [
      "[2 3 4]\n",
      "[0 1 2 3]\n",
      "[6 7 8 9]\n",
      "[0 1 2 3 4 5 6 7 8 9]\n"
     ]
    }
   ],
   "source": [
    "import numpy as np\n",
    "S = np.array([0, 1, 2, 3, 4, 5, 6, 7, 8, 9])\n",
    "print(S[2:5])\n",
    "print(S[:4])\n",
    "print(S[6:])\n",
    "print(S[:])"
   ]
  },
  {
   "cell_type": "markdown",
   "metadata": {},
   "source": [
    "Die Anwendung des Teilbereichsoperators auf mehrdimensionale Arrays illustrieren wir in den folgenden Beispielen.   \n",
    "Die Bereiche für jede Dimension werden durch Kommas getrennt:"
   ]
  },
  {
   "cell_type": "code",
   "execution_count": 20,
   "metadata": {},
   "outputs": [
    {
     "name": "stdout",
     "output_type": "stream",
     "text": [
      "[[13 14 15]\n",
      " [23 24 25]\n",
      " [33 34 35]]\n"
     ]
    }
   ],
   "source": [
    "A = np.array([\n",
    "[11, 12, 13, 14, 15],\n",
    "[21, 22, 23, 24, 25],\n",
    "[31, 32, 33, 34, 35],\n",
    "[41, 42, 43, 44, 45],\n",
    "[51, 52, 53, 54, 55]])\n",
    "print(A[:3, 2:])"
   ]
  },
  {
   "attachments": {
    "grafik.png": {
     "image/png": "[encoded data removed]"
    }
   },
   "cell_type": "markdown",
   "metadata": {},
   "source": [
    "![grafik.png](attachment:grafik.png)"
   ]
  },
  {
   "cell_type": "code",
   "execution_count": 21,
   "metadata": {},
   "outputs": [
    {
     "name": "stdout",
     "output_type": "stream",
     "text": [
      "[[41 42 43 44 45]\n",
      " [51 52 53 54 55]]\n"
     ]
    }
   ],
   "source": [
    "print(A[3:, :])"
   ]
  },
  {
   "attachments": {
    "grafik.png": {
     "image/png": "[encoded data removed]"
    }
   },
   "cell_type": "markdown",
   "metadata": {},
   "source": [
    "![grafik.png](attachment:grafik.png)"
   ]
  },
  {
   "cell_type": "code",
   "execution_count": 22,
   "metadata": {},
   "outputs": [
    {
     "name": "stdout",
     "output_type": "stream",
     "text": [
      "[[15]\n",
      " [25]\n",
      " [35]\n",
      " [45]\n",
      " [55]]\n"
     ]
    }
   ],
   "source": [
    "print(A[:, 4:])"
   ]
  },
  {
   "attachments": {
    "grafik.png": {
     "image/png": "[encoded data removed]"
    }
   },
   "cell_type": "markdown",
   "metadata": {},
   "source": [
    "![grafik.png](attachment:grafik.png)"
   ]
  },
  {
   "cell_type": "markdown",
   "metadata": {},
   "source": [
    "Die folgenden beiden Beispiele benutzten auch noch den dritten Parameter step. Die reshape-Funktion benutzen wir, um ein eindimensionales Array in ein zweidimensionales zu wandeln. "
   ]
  },
  {
   "cell_type": "code",
   "execution_count": 23,
   "metadata": {},
   "outputs": [
    {
     "name": "stdout",
     "output_type": "stream",
     "text": [
      "[[ 0  1  2  3  4  5  6]\n",
      " [ 7  8  9 10 11 12 13]\n",
      " [14 15 16 17 18 19 20]\n",
      " [21 22 23 24 25 26 27]]\n",
      "Und nun jedes dritte Element in jeder zweiten Zeile\n",
      "[[ 0  3  6]\n",
      " [14 17 20]]\n"
     ]
    }
   ],
   "source": [
    "X = np.arange(28).reshape(4, 7)\n",
    "print(X)\n",
    "\n",
    "# und nun jedes dritte Element in jeder zweiten Zeile\n",
    "print(\"Und nun jedes dritte Element in jeder zweiten Zeile\")\n",
    "print(X[::2, ::3])"
   ]
  },
  {
   "attachments": {
    "grafik.png": {
     "image/png": "[encoded data removed]"
    }
   },
   "cell_type": "markdown",
   "metadata": {},
   "source": [
    "![grafik.png](attachment:grafik.png)"
   ]
  },
  {
   "cell_type": "code",
   "execution_count": 24,
   "metadata": {},
   "outputs": [
    {
     "name": "stdout",
     "output_type": "stream",
     "text": [
      "[[ 0  3  6]\n",
      " [ 7 10 13]\n",
      " [14 17 20]\n",
      " [21 24 27]]\n"
     ]
    }
   ],
   "source": [
    "# oder jedes dritte Element in jeder Zeile\n",
    "print(X[::, ::3])"
   ]
  },
  {
   "attachments": {
    "grafik.png": {
     "image/png": "[encoded data removed]"
    }
   },
   "cell_type": "markdown",
   "metadata": {},
   "source": [
    "![grafik.png](attachment:grafik.png)"
   ]
  },
  {
   "cell_type": "markdown",
   "metadata": {},
   "source": [
    "### Dreidimensionale Arrays\n",
    "\n",
    "Dreidimensionale Arrays sind vom Zugriff her etwas schwerer vorstellbar. Betrachten wir dazu das folgende Beispielarray:"
   ]
  },
  {
   "cell_type": "code",
   "execution_count": 25,
   "metadata": {},
   "outputs": [
    {
     "name": "stdout",
     "output_type": "stream",
     "text": [
      "[[[ 3  1  2]\n",
      "  [ 4  2  2]]\n",
      "\n",
      " [[-1  0  1]\n",
      "  [ 1 -1 -2]]\n",
      "\n",
      " [[ 3  2  2]\n",
      "  [ 4  4  3]]\n",
      "\n",
      " [[ 2  2  1]\n",
      "  [ 3  1  3]]]\n",
      "(4, 2, 3)\n"
     ]
    }
   ],
   "source": [
    "import numpy as np\n",
    "X = np.array(\n",
    "    [[[3, 1, 2],\n",
    "      [4, 2, 2]],\n",
    "     [[-1, 0, 1],\n",
    "      [1, -1, -2]],\n",
    "     \n",
    "     [[3, 2, 2],\n",
    "      [4, 4, 3]],\n",
    "     [[2, 2, 1],\n",
    "      [3, 1, 3]]])\n",
    "print(X)\n",
    "print(X.shape)"
   ]
  },
  {
   "cell_type": "markdown",
   "metadata": {},
   "source": [
    "Wir sehen, dass dieses Array eine Shape (4, 2, 3) hat. Wir benutzen nun die Slicing-Funktionalität, um uns die Schnitte durch die Dimensionen zu veranschaulichen:"
   ]
  },
  {
   "cell_type": "code",
   "execution_count": 26,
   "metadata": {},
   "outputs": [
    {
     "name": "stdout",
     "output_type": "stream",
     "text": [
      "Dimension 0 with size  4\n",
      "\n",
      "Ausgabe von X[0,:,:]:\n",
      "[[3 1 2]\n",
      " [4 2 2]]\n",
      "\n",
      "Ausgabe von X[1,:,:]:\n",
      "[[-1  0  1]\n",
      " [ 1 -1 -2]]\n",
      "\n",
      "Ausgabe von X[2,:,:]:\n",
      "[[3 2 2]\n",
      " [4 4 3]]\n",
      "\n",
      "Ausgabe von X[3,:,:]:\n",
      "[[2 2 1]\n",
      " [3 1 3]]\n",
      "\n",
      "Dimension 1 with size  2\n",
      "\n",
      "Ausgabe von X[:,0,:]:\n",
      "[[ 3  1  2]\n",
      " [-1  0  1]\n",
      " [ 3  2  2]\n",
      " [ 2  2  1]]\n",
      "\n",
      "Ausgabe von X[:,1,:]:\n",
      "[[ 4  2  2]\n",
      " [ 1 -1 -2]\n",
      " [ 4  4  3]\n",
      " [ 3  1  3]]\n",
      "\n",
      "Dimension 2 with size  3\n",
      "\n",
      "Ausgabe von X[:,:,0]:\n",
      "[[ 3  4]\n",
      " [-1  1]\n",
      " [ 3  4]\n",
      " [ 2  3]]\n",
      "\n",
      "Ausgabe von X[:,:,1]:\n",
      "[[ 1  2]\n",
      " [ 0 -1]\n",
      " [ 2  4]\n",
      " [ 2  1]]\n",
      "\n",
      "Ausgabe von X[:,:,2]:\n",
      "[[ 2  2]\n",
      " [ 1 -2]\n",
      " [ 2  3]\n",
      " [ 1  3]]\n"
     ]
    }
   ],
   "source": [
    "print(\"Dimension 0 with size \", X.shape[0])\n",
    "for i in range(X.shape[0]):\n",
    "    print(f\"\\nAusgabe von X[{i:1},:,:]:\")\n",
    "    print(X[i,:,:])\n",
    "    \n",
    "print(\"\\nDimension 1 with size \", X.shape[1])\n",
    "for i in range(X.shape[1]):\n",
    "    print(f\"\\nAusgabe von X[:,{i:1},:]:\")\n",
    "    print(X[:,i,:])\n",
    "    \n",
    "print(\"\\nDimension 2 with size \", X.shape[2])\n",
    "for i in range(X.shape[2]):\n",
    "    print(f\"\\nAusgabe von X[:,:,{i:1}]:\")\n",
    "    print(X[:,:,i])"
   ]
  },
  {
   "cell_type": "markdown",
   "metadata": {},
   "source": [
    "### Arrays mit Nullen und Einsen\n",
    "\n",
    "Arrays können auf zwei Arten mit **Nullen** und **Einsen** initialisiert werden. Die Methode ones(t) hat als Parameter ein Tupel t mit der Shape des Arrays und erzeugt entsprechend ein Array mit Einsen. Defaultmäßig wird es mit Float-Einsen gefüllt. Wenn man Integer-Einsen benötigt, kann man den optionalen Parameter dtype auf int setzen:"
   ]
  },
  {
   "cell_type": "code",
   "execution_count": 27,
   "metadata": {},
   "outputs": [
    {
     "name": "stdout",
     "output_type": "stream",
     "text": [
      "[[1. 1. 1.]\n",
      " [1. 1. 1.]]\n",
      "[[1 1 1 1]\n",
      " [1 1 1 1]\n",
      " [1 1 1 1]]\n"
     ]
    }
   ],
   "source": [
    "import numpy as np\n",
    "E = np.ones((2, 3))\n",
    "print(E)\n",
    "F = np.ones((3, 4), dtype=int)\n",
    "print(F)"
   ]
  },
  {
   "cell_type": "markdown",
   "metadata": {},
   "source": [
    "Was wir über die Methode **ones** gesagt haben, gilt analog auch für die Methode **zeros**:"
   ]
  },
  {
   "cell_type": "code",
   "execution_count": 28,
   "metadata": {},
   "outputs": [
    {
     "name": "stdout",
     "output_type": "stream",
     "text": [
      "[[0. 0. 0. 0.]\n",
      " [0. 0. 0. 0.]]\n",
      "[[0 0 0 0]\n",
      " [0 0 0 0]]\n"
     ]
    }
   ],
   "source": [
    "Z = np.zeros((2, 4))\n",
    "print(Z)\n",
    "Z = np.zeros((2, 4), dtype=int)\n",
    "print(Z)"
   ]
  },
  {
   "cell_type": "markdown",
   "metadata": {},
   "source": [
    "Es gibt noch eine andere interessante Möglichkeit, ein Array mit Einsen oder Nullen zu erzeugen, wenn es die gleiche Shape wie ein anderes existierendes Array 'a' haben soll. Für diesen Zweck stellt NumPy die Methoden **ones_like** und **zeros_like** zur Verfügung:"
   ]
  },
  {
   "cell_type": "code",
   "execution_count": 29,
   "metadata": {},
   "outputs": [
    {
     "name": "stdout",
     "output_type": "stream",
     "text": [
      "[1 1 1 1 1]\n",
      "[0 0 0 0 0]\n"
     ]
    }
   ],
   "source": [
    "x = np.array([2, 5, 18, 14, 4])\n",
    "E = np.ones_like(x)\n",
    "print(E)\n",
    "Z = np.zeros_like(x)\n",
    "print(Z)"
   ]
  },
  {
   "cell_type": "markdown",
   "metadata": {},
   "source": [
    "## Arrays kopieren\n",
    "\n",
    "\n",
    "### numpy.copy(A) und A.copy()\n",
    "\n",
    "Zum Kopieren eines NumPy-Arrays A gibt es generell zwei Möglichkeiten:\n",
    "\n",
    "    numpy.copy(A)\n",
    "    A.copy()\n",
    "\n",
    "Beide sind nahezu gleich und liefern jeweils eine Kopie des Arrays A zurück. Sie unterscheiden sich aber beim Defaultwert des optionalen Parameters order. Bei numpy.copy(obj) steht der Defaultwert auf order='K', und bei obj.copy() steht er auf order='C'.  \n",
    "\n",
    "    Parameter \tBedeutung\n",
    "        obj       array-ähnliche Eingabedaten\n",
    "        order \tDie möglichen Werte sind {'C', 'F', 'A', 'K'}.   \n",
    "        \n",
    "Der Parameter *order* kontrolliert das Speicher-Layout der Kopie.  \n",
    "'C' bedeutet C-Reihenfolge oder C-zusammenhängend, 'F' Fortran-zusammenhängend, 'A' verhält sich wie 'F', falls das   \n",
    "Objekt 'obj' in Fortran-Reihenfolge ist, ansonsten verhält sich 'A' wie 'C'. 'K' bedeutet, dass das Layout von 'obj'   \n",
    "so nahe wie möglich realisiert werden soll.\n",
    "    \n",
    "    \n",
    "### Zusammenhängend gespeicherte Arrays\n",
    "\n",
    "Um den Parameter *order* zu verstehen, gehen wir noch kurz auf den Begriff \"zusammenhängend\" (englisch \"contiguous\") ein. Die Speicherstruktur eines Arrays wird als zusammenhängend bezeichnet, wenn die Speicherung eines Arrays entweder C-zusammenhängend (C_CONTIGUOUS) oder Fortran-zusammenhängend (F_CONTIGUOUS) erfolgt. Betrachten wir dazu folgendes Array:"
   ]
  },
  {
   "cell_type": "code",
   "execution_count": 30,
   "metadata": {},
   "outputs": [
    {
     "name": "stdout",
     "output_type": "stream",
     "text": [
      "F array: \n",
      " [[11 12 13 14]\n",
      " [21 22 23 24]\n",
      " [31 32 33 34]]\n",
      "C array: \n",
      " [[11 12 13 14]\n",
      " [21 22 23 24]\n",
      " [31 32 33 34]]\n",
      "Ist F 'C contiguous?':  False\n",
      "Ist C 'C contiguous?':  True\n",
      "Ist C 'C contiguous?':  False\n"
     ]
    }
   ],
   "source": [
    "import numpy as np\n",
    "F = np.array([[11, 12, 13, 14], \n",
    "              [21, 22, 23, 24],\n",
    "              [31, 32, 33, 34]], order='F')\n",
    "C = F.copy()\n",
    "C2 = np.copy(F)\n",
    "print(\"F array: \\n\", F)\n",
    "print(\"C array: \\n\", C)\n",
    "print(\"Ist F 'C contiguous?': \", F.flags['C_CONTIGUOUS'])\n",
    "print(\"Ist C 'C contiguous?': \", C.flags['C_CONTIGUOUS'])\n",
    "print(\"Ist C 'C contiguous?': \", C2.flags['C_CONTIGUOUS'])"
   ]
  },
  {
   "cell_type": "markdown",
   "metadata": {},
   "source": [
    "## Identitäts-Array\n",
    "\n",
    "In der linearen Algebra versteht man unter der Identitätsmatrix oder Einheitsmatrix eine quadratische Matrix, deren Hauptdiagonalelemente eins und deren Außerdiagonalelemente null sind.\n",
    "\n",
    "NumPy bietet zwei Möglichkeiten, solche Arrays zu erzeugen:\n",
    "\n",
    "    identy\n",
    "    eye\n"
   ]
  },
  {
   "cell_type": "markdown",
   "metadata": {},
   "source": [
    "### Die identity-Funktion\n",
    "\n",
    "Wir können Identitäts-Arrays mit der Funktion *identity* generieren:\n",
    "\n",
    "**identity(n, dtype=None)**  \n",
    "\n",
    "    Parameter \tBedeutung\n",
    "    n \t        Eine Integer-Zahl, welche die Anzahl der Zeilen und Spalten der Ausgabe                   \n",
    "                  definiert, d.h. 'n' x 'n'\n",
    "    dtype \t    Ein optionales Argument, welches den Datentyp des Ergebnisses definiert.  \n",
    "                  Der Default ist 'float'\n",
    "\n",
    "Die Ausgabe von identity ist ein n x n-Array, in dem die Elemente auf der Hauptdiagonalen auf 1 gesetzt sind und alle anderen Elemente auf 0."
   ]
  },
  {
   "cell_type": "code",
   "execution_count": 31,
   "metadata": {},
   "outputs": [
    {
     "name": "stdout",
     "output_type": "stream",
     "text": [
      "A array: \n",
      " [[1. 0. 0. 0.]\n",
      " [0. 1. 0. 0.]\n",
      " [0. 0. 1. 0.]\n",
      " [0. 0. 0. 1.]]\n",
      "B array: \n",
      " [[1 0 0 0]\n",
      " [0 1 0 0]\n",
      " [0 0 1 0]\n",
      " [0 0 0 1]]\n"
     ]
    }
   ],
   "source": [
    "import numpy as np\n",
    "A = np.identity(4)\n",
    "B = np.identity(4, dtype=int)\n",
    "print(\"A array: \\n\", A)\n",
    "print(\"B array: \\n\", B)\n"
   ]
  },
  {
   "cell_type": "markdown",
   "metadata": {},
   "source": [
    "### Die eye-Funktion\n",
    "\n",
    "Die Funktion *eye* bietet eine andere Möglichkeit, Identitätsarrays, aber auch allgemeine Diagonalarrays, mit Einsen zu erzeugen. Die Ausgabe von eye ist ein zweidimensionales Array, in dem die Elemente auf der Hauptdiagonalen auf 1 gesetzt sind (bei k=0) und alle anderen Elemente auf 0. Mit unterschiedlichen k lässt sich die Diagonale \"verschieben\".\n",
    "\n",
    "**eye(N, M=None, k=0, dtype=float)**"
   ]
  },
  {
   "cell_type": "code",
   "execution_count": 32,
   "metadata": {},
   "outputs": [
    {
     "name": "stdout",
     "output_type": "stream",
     "text": [
      "[[0 1 0 0 0 0 0 0]\n",
      " [0 0 1 0 0 0 0 0]\n",
      " [0 0 0 1 0 0 0 0]\n",
      " [0 0 0 0 1 0 0 0]\n",
      " [0 0 0 0 0 1 0 0]]\n"
     ]
    }
   ],
   "source": [
    "import numpy as np\n",
    "print(np.eye(5, 8, k=1, dtype=int))"
   ]
  },
  {
   "cell_type": "markdown",
   "metadata": {},
   "source": [
    "### Datentyp-Objekt: dtype\n",
    "\n",
    "#### dtype\n",
    "\n",
    "Das Datentypobjekt 'dtype' ist eine Instanz der numpy.dtype-Klasse. Es kann mit *numpy.dtype* konstruiert werden.\n",
    "\n",
    "Bis jetzt haben wir in unseren Beispielen von NumPy-Arrays nur grundlegende numerische Typen wie 'int' und 'float' benutzt. Diese NumPy-Arrays enthielten nur homogene Datentypen. dtype-Objekte werden aus einer Kombination von grundlegenden Datentypen erzeugt. Mit Hilfe von dtype sind wir in der Lage \"Strukturierte Arrays\" zu erzeugen (auch bekannt als \"record arrays\") und somit verschiedene Datentypen in verschiedenen Spalten zu haben. Es gibt somit Ähnlichkeit zu Excel- oder CSV-Dokumenten. "
   ]
  },
  {
   "cell_type": "markdown",
   "metadata": {},
   "source": [
    "#### Strukturierte Arrays\n",
    "\n",
    "*ndarrays* sind homogene Datenobjekte, d.h. alle Elemente eines Arrays haben den gleichen Datentyp. Der Datentyp dtype hingegen erlaubt es uns, spaltenweise Typen zu deklarieren.\n",
    "\n",
    "Wir wollen eine Tabelle europäischer Länder mit den Informationen über Fläche, Bevölkerung und Bevölkerungsdichte generieren.\n",
    "\n",
    "Wir erzeugen ein strukturiertes Array mit den Spalten \"country\" (String), \"density\" (float), \"area\" (int) und \"population\"(int). Die Struktur dafür haben wir vorher in dt definiert:"
   ]
  },
  {
   "cell_type": "code",
   "execution_count": 33,
   "metadata": {},
   "outputs": [
    {
     "name": "stdout",
     "output_type": "stream",
     "text": [
      "[393. 337. 256. 233. 205. 192. 177. 173. 111.  97.  81.  65.  20.  16.\n",
      "  13.]\n",
      "[b'Netherlands' b'Belgium' b'United Kingdom' b'Germany' b'Liechtenstein'\n",
      " b'Italy' b'Switzerland' b'Luxembourg' b'France' b'Austria' b'Greece'\n",
      " b'Ireland' b'Sweden' b'Finland' b'Norway']\n",
      "[243610 357021    160]\n"
     ]
    }
   ],
   "source": [
    "dt = np.dtype([('country', 'S20'), \n",
    "               ('density', 'f'), \n",
    "               ('area', 'i4'), \n",
    "               ('population', 'i4')])\n",
    "population_table = np.array([('Netherlands', 393, 41526, 16928800),\n",
    "('Belgium', 337, 30510, 11007020),\n",
    "('United Kingdom', 256, 243610, 62262000),\n",
    "('Germany', 233, 357021, 81799600),\n",
    "('Liechtenstein', 205, 160, 32842),\n",
    "('Italy', 192, 301230, 59715625),\n",
    "('Switzerland', 177, 41290, 7301994),\n",
    "('Luxembourg', 173, 2586, 512000),\n",
    "('France', 111, 547030, 63601002),\n",
    "('Austria', 97, 83858, 8169929),\n",
    "('Greece', 81, 131940, 11606813),\n",
    "('Ireland', 65, 70280, 4581269),\n",
    "('Sweden', 20, 449964, 9515744),\n",
    "('Finland', 16, 338424, 5410233),\n",
    "('Norway', 13, 385252, 5033675)],dtype=dt)\n",
    "print(population_table['density'])\n",
    "print(population_table['country'])\n",
    "print(population_table['area'][2:5])"
   ]
  },
  {
   "cell_type": "markdown",
   "metadata": {},
   "source": [
    "### Numerische Operationen auf NumPy-Arrays\n",
    "\n",
    "#### Operatoren und Skalare\n",
    "\n",
    "Skalare Grundoperationen"
   ]
  },
  {
   "cell_type": "code",
   "execution_count": 34,
   "metadata": {},
   "outputs": [
    {
     "name": "stdout",
     "output_type": "stream",
     "text": [
      "[ 4.    5.    9.9   5.3   8.9   2.11 12.3  14.9 ]\n",
      "[ 4.4    6.6   17.38   7.26  15.18   0.242 22.66  28.38 ]\n",
      "[4.0000e+00 9.0000e+00 6.2410e+01 1.0890e+01 4.7610e+01 1.2100e-02\n",
      " 1.0609e+02 1.6641e+02]\n"
     ]
    }
   ],
   "source": [
    "import numpy as np\n",
    "lst = [2, 3, 7.9, 3.3, 6.9, 0.11, 10.3, 12.9]\n",
    "# man wandelt die Liste zuerst in ein NumPy-Array um\n",
    "v = np.array(lst)\n",
    "\n",
    "# Addition\n",
    "print(v + 2)\n",
    "\n",
    "# Multiplikation\n",
    "print(v * 2.2)\n",
    "\n",
    "# Exponentiation\n",
    "print(v ** 2)"
   ]
  },
  {
   "cell_type": "markdown",
   "metadata": {},
   "source": [
    "Ausgehend von einer Liste (s.o) könnte man natürlich auch folgendermaßen vorgehen:"
   ]
  },
  {
   "cell_type": "code",
   "execution_count": 35,
   "metadata": {},
   "outputs": [
    {
     "name": "stdout",
     "output_type": "stream",
     "text": [
      "[4, 5, 9.9, 5.3, 8.9, 2.11, 12.3, 14.9]\n"
     ]
    }
   ],
   "source": [
    "lst = [2,3, 7.9, 3.3, 6.9, 0.11, 10.3, 12.9]\n",
    "res = []\n",
    "for val in lst:\n",
    "    res.append(val + 2)\n",
    "print(res)"
   ]
  },
  {
   "cell_type": "markdown",
   "metadata": {},
   "source": [
    "Oder eleganter mittels Listenabstraktion (list comprehension):"
   ]
  },
  {
   "cell_type": "code",
   "execution_count": 36,
   "metadata": {
    "scrolled": true
   },
   "outputs": [
    {
     "name": "stdout",
     "output_type": "stream",
     "text": [
      "[4, 5, 9.9, 5.3, 8.9, 2.11, 12.3, 14.9]\n"
     ]
    }
   ],
   "source": [
    "res = [ val + 2 for val in lst]\n",
    "print(res)"
   ]
  },
  {
   "cell_type": "markdown",
   "metadata": {},
   "source": [
    "Die NumPy-Lösung ist allerdings um mehrere 10er-Potenzen schneller  \n",
    "#### Arithmetische Operationen auf zwei Arrays\n",
    "Falls wir ein weiteres Array statt eines Skalars benutzen, werden die Elemente beider Arrays komponentenweise miteinander verknüpft.  \n",
    "ACHTUNG: Die Operation **(A * B)** im folgenden darf man dabei aber **nicht** mit einer **Matritzenmultiplikation** verwechseln!"
   ]
  },
  {
   "cell_type": "code",
   "execution_count": 37,
   "metadata": {},
   "outputs": [
    {
     "name": "stdout",
     "output_type": "stream",
     "text": [
      "Addition zweier Arrays: \n",
      "[[16 16 15]\n",
      " [22 22 25]\n",
      " [34 40 35]]\n",
      "\n",
      "Multiplikation zweier Arrays: \n",
      "[[ 55  48  26]\n",
      " [ 21   0  46]\n",
      " [ 93 256  66]]\n"
     ]
    }
   ],
   "source": [
    "import numpy as np\n",
    "A = np.array([[11, 12, 13], [21, 22, 23], [31, 32, 33]])\n",
    "B = np.array([[5, 4, 2], [1, 0, 2], [3, 8, 2]])\n",
    "print(\"Addition zweier Arrays: \")\n",
    "print(A + B)\n",
    "print(\"\\nMultiplikation zweier Arrays: \")\n",
    "print(A * B)"
   ]
  },
  {
   "cell_type": "markdown",
   "metadata": {},
   "source": [
    "#### Matrizenmultiplikation und Skalarprodukt\n",
    "##### Definition der dot-Funktion\n",
    "In englischen Texten wird häufig bei dieser NumPy-Funktionalität vom \"dot product\" gesprochen. Mathematisch versteht man unter dem \"dot product\" das Skalarprodukt oder \"innere Produkt\" von zwei Vektoren.  \n",
    "Da das Skalar- oder Punktprodukt in der Mathematik üblicherweise nur für den eindimensionalen Fall bei Vektoren definiert ist und die dot-Funktion von NumPy aber auf beliebige Funktionen angewendet werden kann, sprechen wir von dot-Funktion, um Verwechslungen zur Mathematik vorzubeugen.\n",
    "\n",
    "Die Syntax der dot-Funktion sieht wie folgt aus:\n",
    "\n",
    "**dot(a, b, out=None)**\n",
    "\n",
    "Die Funktion **dot** liefert das dot-Produkt von a und b zurück.\n",
    "\n",
    "Falls sowohl a als auch b Skalare sind oder beide eindimensionale Arrays, wird ein Skalar zurückgegeben, ansonsten ein Array.\n",
    "Für eindimensionale Arrays entspricht es dem Skalarprodukt.\n",
    "Für zweidimensionale Arrays entspricht das dot-Produkt der Matrizenmultiplikation.  \n",
    "##### Beispiele zur dot-Funktion\n",
    "Wir beginnen mit den Fällen, in denen beide Argumente Skalare oder eindimensionale Arrays sind:\n",
    "\n"
   ]
  },
  {
   "cell_type": "code",
   "execution_count": 38,
   "metadata": {},
   "outputs": [
    {
     "name": "stdout",
     "output_type": "stream",
     "text": [
      "12\n",
      "1\n",
      "12\n",
      "-14\n"
     ]
    }
   ],
   "source": [
    "import numpy as np\n",
    "print(np.dot(3, 4))\n",
    "x = np.array([3])\n",
    "y = np.array([4])\n",
    "print(x.ndim)\n",
    "print(np.dot(x, y))\n",
    "x = np.array([3, -2])\n",
    "y = np.array([-4, 1])\n",
    "print(np.dot(x, y))"
   ]
  },
  {
   "cell_type": "markdown",
   "metadata": {},
   "source": [
    "Im zweidimensionalen Fall realisiert die dot-Funktion die Matrizenmultiplikation.  \n",
    "Betrachten wir dazu folgendes Beispiel:"
   ]
  },
  {
   "cell_type": "code",
   "execution_count": 39,
   "metadata": {},
   "outputs": [
    {
     "name": "stdout",
     "output_type": "stream",
     "text": [
      "[[ 442  316  870]\n",
      " [ 772  556 1500]\n",
      " [1102  796 2130]]\n"
     ]
    }
   ],
   "source": [
    "import numpy as np\n",
    "A = np.array([[11, 12, 13, 14], \n",
    "              [21, 22, 23, 24], \n",
    "              [31, 32, 33, 34]])\n",
    "B = np.array([[5, 4, 2], \n",
    "              [1, 0, 2], \n",
    "              [3, 8, 2], \n",
    "              [24, 12, 57]])\n",
    "print(np.dot(A, B))"
   ]
  },
  {
   "cell_type": "markdown",
   "metadata": {},
   "source": [
    "Seit Python 3.5 gibt es für das dot-Produkt auch einen speziellen Infix-Operator, und zwar @:"
   ]
  },
  {
   "cell_type": "code",
   "execution_count": 40,
   "metadata": {},
   "outputs": [
    {
     "name": "stdout",
     "output_type": "stream",
     "text": [
      "[[ 442  316  870]\n",
      " [ 772  556 1500]\n",
      " [1102  796 2130]]\n"
     ]
    }
   ],
   "source": [
    "print(A @ B)"
   ]
  },
  {
   "cell_type": "markdown",
   "metadata": {},
   "source": [
    "Dabei ist natürlich klar, dass die Anzahl der Spalten des ersten zweidimensionalen Arrays gleich der Anzahl der Zeilen des zweiten zweidimensionalen Arrays sein muss. Das kann man folgendermaßen testen (A.shape [-1] bedeutet Anzahl der Spalten, B.shape [-2] Anzahl der Zeilen)"
   ]
  },
  {
   "cell_type": "code",
   "execution_count": 41,
   "metadata": {},
   "outputs": [
    {
     "name": "stdout",
     "output_type": "stream",
     "text": [
      "True\n"
     ]
    }
   ],
   "source": [
    "# es muss gelten:\n",
    "print(A.shape[-1] == B.shape[-2]) "
   ]
  },
  {
   "cell_type": "markdown",
   "metadata": {},
   "source": [
    "#### Vergleichsoperatoren\n",
    "\n",
    "Wir kennen bereits Vergleichsoperatoren in Python, die wir auf Integer, Floats oder Strings angewendet haben. Sie liefern True oder False zurück. Vergleichen wir zwei Arrays miteinander, erhalten wir keinen \"einfachen\" Booleschen Wert zurück. Die Vergleiche werden elementweise durchgeführt. Dies bewirkt, dass wir ein Boolesches Array als Rückgabewert erhalten:"
   ]
  },
  {
   "cell_type": "code",
   "execution_count": 42,
   "metadata": {},
   "outputs": [
    {
     "name": "stdout",
     "output_type": "stream",
     "text": [
      "[[ True False  True]\n",
      " [False  True False]\n",
      " [ True  True False]]\n"
     ]
    }
   ],
   "source": [
    "import numpy as np\n",
    "A = np.array([ [11, 12, 13], [21, 22, 23], [31, 32, 33] ])\n",
    "B = np.array([ [11, 102, 13], [201, 22, 203], [31, 32, 303] ])\n",
    "print(A == B)"
   ]
  },
  {
   "cell_type": "markdown",
   "metadata": {},
   "source": [
    "Man kann aber auch Arrays vollständig auf Gleichheit überprüfen. Dazu benutzen wir die Funktion **array_equal**, die True zurückliefert, falls zwei Arrays die gleiche Shape haben und alle Elemente gleich sind. Ansonsten wird False zurückgeliefert."
   ]
  },
  {
   "cell_type": "code",
   "execution_count": 43,
   "metadata": {},
   "outputs": [
    {
     "name": "stdout",
     "output_type": "stream",
     "text": [
      "False\n",
      "True\n"
     ]
    }
   ],
   "source": [
    "print(np.array_equal(A, B))\n",
    "print(np.array_equal(A, A))"
   ]
  },
  {
   "cell_type": "markdown",
   "metadata": {},
   "source": [
    "#### Logische Operatoren\n",
    "\n",
    "Wir können Arrays auch komponentenweise mittels logischem 'oder' bzw. logischem 'und' verknüpfen. Dazu gibt es die Funktionen **logical_or** bzw. **logical_and**."
   ]
  },
  {
   "cell_type": "code",
   "execution_count": 44,
   "metadata": {},
   "outputs": [
    {
     "name": "stdout",
     "output_type": "stream",
     "text": [
      "[[ True  True]\n",
      " [ True False]]\n",
      "[[ True False]\n",
      " [False False]]\n"
     ]
    }
   ],
   "source": [
    "a = np.array([ [True, True], [False, False]])\n",
    "b = np.array([ [True, False], [True, False]])\n",
    "print(np.logical_or(a, b))\n",
    "print(np.logical_and(a, b))"
   ]
  },
  {
   "cell_type": "markdown",
   "metadata": {},
   "source": [
    "Eine weitere interessante Funktionalität ist das sog. **broadcasting**, womit arrays mit unterschiedlichen shapes miteinander verknüpft werden können (hier nicht näher erläutert). "
   ]
  },
  {
   "cell_type": "markdown",
   "metadata": {},
   "source": [
    "## Zufallszahlen mit Python\n",
    "\n",
    "### Die Module random und secrets\n",
    "\n",
    "Das Modul secrets wurde erst mit Python 3.6 neu eingeführt. Mit diesem Modul kann man kryptografisch starke Pseudozufallszahlen erzeugen, die sich als Passwörter, Tokens oder Ähnliches eignen. Das random-Modul von Python wurde nicht in Hinblick auf kryptografische Anwendungen entwickelt. Der Fokus dieses Moduls lag auf Modellbildungen und Simulationen.\n",
    "Mit der Funktion random.random können wir eine Zufallszahl im halb-offenen Intervall [0, 1) erzeugen:"
   ]
  },
  {
   "cell_type": "code",
   "execution_count": 45,
   "metadata": {},
   "outputs": [
    {
     "name": "stdout",
     "output_type": "stream",
     "text": [
      "0.03240598073833367\n"
     ]
    }
   ],
   "source": [
    "import random\n",
    "random_number = random.random()\n",
    "print(random_number)"
   ]
  },
  {
   "cell_type": "markdown",
   "metadata": {},
   "source": [
    "Nun wollen wir eine kryptografisch starke Zufallszahl erzeugen:"
   ]
  },
  {
   "cell_type": "code",
   "execution_count": 46,
   "metadata": {},
   "outputs": [
    {
     "name": "stdout",
     "output_type": "stream",
     "text": [
      "0.7192362058758092\n"
     ]
    }
   ],
   "source": [
    "from secrets import SystemRandom\n",
    "# from random import SystemRandom ist dazu äquivalent\n",
    "crypto = SystemRandom()\n",
    "print(crypto.random())"
   ]
  },
  {
   "cell_type": "markdown",
   "metadata": {},
   "source": [
    "### Erzeugen einer Liste von Zufallszahlen\n",
    "\n",
    "Häufig benötigen wir mehr als eine Zufallszahl. Die folgende Funktion random_list kann eine Liste von Zufallszahlen mit vorgegebener Anzahl erzeugen. Mit dem Parameter secure können wir steuern, ob wir sichere, also mit SystemRandom erzeugte Zahlen wollen. Der Preis für die höhere Sicherheit liegt in einer deutlich höheren Rechenzeit."
   ]
  },
  {
   "cell_type": "code",
   "execution_count": 47,
   "metadata": {},
   "outputs": [
    {
     "name": "stdout",
     "output_type": "stream",
     "text": [
      "[0.008297495796697585, 0.01591634171470324, 0.14721141266706328]\n"
     ]
    }
   ],
   "source": [
    "import random\n",
    "def random_list(n, secure=True):\n",
    "    random_floats = []\n",
    "    if secure:\n",
    "        crypto = random.SystemRandom()\n",
    "        random_float = crypto.random\n",
    "    else:\n",
    "        random_float = random.random\n",
    "    for _ in range(n):\n",
    "        random_floats.append(random_float())\n",
    "    return random_floats\n",
    "print(random_list(3, secure=False))"
   ]
  },
  {
   "cell_type": "markdown",
   "metadata": {},
   "source": [
    "Am einfachsten, was den Programmieraufwand betrifft, und am schnellsten, was die Laufzeit betrifft, lassen sich Zufallszahlen mit dem random-Untermodul von numpy erzeugen. Allerdings werden auch hier keine sicheren Zufallszahlen erzeugt!"
   ]
  },
  {
   "cell_type": "code",
   "execution_count": 48,
   "metadata": {},
   "outputs": [
    {
     "name": "stdout",
     "output_type": "stream",
     "text": [
      "[0.04026093 0.7136751  0.66745645 0.29312212 0.16980046 0.71568284\n",
      " 0.76189119 0.69652077 0.60714255 0.56552646]\n"
     ]
    }
   ],
   "source": [
    "import numpy as np\n",
    "print(np.random.random(10))"
   ]
  },
  {
   "cell_type": "markdown",
   "metadata": {},
   "source": [
    "Wenn man zufällige Integer-Zahlen erzeugen möchte, empfiehlt es sich, die Funktion randint zu nutzen, die die Module random, secrets und numpy.random bietet (Bsp. Würfel 1...6)."
   ]
  },
  {
   "cell_type": "code",
   "execution_count": 49,
   "metadata": {},
   "outputs": [
    {
     "name": "stdout",
     "output_type": "stream",
     "text": [
      "6\n",
      "4\n"
     ]
    }
   ],
   "source": [
    "import random\n",
    "# randint\n",
    "outcome = random.randint(1, 6)\n",
    "print(outcome)\n",
    "\n",
    "import secrets\n",
    "c = secrets.SystemRandom()\n",
    "print(c.randint(1, 6))"
   ]
  },
  {
   "cell_type": "markdown",
   "metadata": {},
   "source": [
    "Würfeln wir sehr oft, so sollte jede Augenzahl ungefähr in einem Sechstel der Fälle auftreten. Wir testen dies im Folgenden. Das Zählen erledigen wir mit der Counter-Klasse aus dem collections-Modul:"
   ]
  },
  {
   "cell_type": "code",
   "execution_count": 50,
   "metadata": {},
   "outputs": [
    {
     "name": "stdout",
     "output_type": "stream",
     "text": [
      "Counter({5: 16757, 1: 16718, 3: 16681, 4: 16663, 2: 16592, 6: 16589})\n",
      "Augenzahl: 2,           relative Häufigkeit: 0.16592\n",
      "Augenzahl: 3,           relative Häufigkeit: 0.16681\n",
      "Augenzahl: 1,           relative Häufigkeit: 0.16718\n",
      "Augenzahl: 5,           relative Häufigkeit: 0.16757\n",
      "Augenzahl: 4,           relative Häufigkeit: 0.16663\n",
      "Augenzahl: 6,           relative Häufigkeit: 0.16589\n"
     ]
    }
   ],
   "source": [
    "from collections import Counter\n",
    "import random\n",
    "c = Counter()\n",
    "anzahl_wuerfe = 100000\n",
    "for wurf in range(anzahl_wuerfe):\n",
    "    augenzahl = random.randint(1, 6)\n",
    "    c[augenzahl] += 1\n",
    "    \n",
    "print(c)\n",
    "for augenzahl in c:\n",
    "    print(f\"Augenzahl: {augenzahl}, \\\n",
    "          relative Häufigkeit: {c[augenzahl]/anzahl_wuerfe}\")"
   ]
  },
  {
   "cell_type": "markdown",
   "metadata": {},
   "source": [
    "Obiges Beispiel lässt sich mit der random-Funktion aus dem NumPy-Modul einfacher realisieren, wobei zu beachten ist, dass im Gegensatz zur Python-Funktion **random.randint** die NumPy-Funktion **np.random.randint** zufällige Werte aus einem halboffenen Intervall [1,7) liefert."
   ]
  },
  {
   "cell_type": "code",
   "execution_count": 51,
   "metadata": {
    "scrolled": true
   },
   "outputs": [
    {
     "name": "stdout",
     "output_type": "stream",
     "text": [
      "Augenzahl: 4,           relative Häufigkeit: 0.16802\n",
      "Augenzahl: 1,           relative Häufigkeit: 0.1682\n",
      "Augenzahl: 5,           relative Häufigkeit: 0.16548\n",
      "Augenzahl: 6,           relative Häufigkeit: 0.16602\n",
      "Augenzahl: 3,           relative Häufigkeit: 0.16606\n",
      "Augenzahl: 2,           relative Häufigkeit: 0.16622\n"
     ]
    }
   ],
   "source": [
    "import numpy as np\n",
    "from collections import Counter\n",
    "anzahl_wuerfe = 100000\n",
    "outcome = np.random.randint(1, 7, size=anzahl_wuerfe)\n",
    "c = Counter(outcome)\n",
    "for augenzahl in c:\n",
    "    print(f\"Augenzahl: {augenzahl}, \\\n",
    "          relative Häufigkeit: {c[augenzahl]/anzahl_wuerfe}\")"
   ]
  },
  {
   "cell_type": "markdown",
   "metadata": {},
   "source": [
    "### Stichproben/Auswahlen\n",
    "\n",
    "**choice** ist eine weitere extrem nützliche Funktion des random-Moduls. Sie kann genutzt werden, um aus einer nicht-leeren Sequenz ein zufälliges Element zu wählen.\n",
    "\n",
    "Sequenzen können beispielsweise Listen, Strings und Tupels sein, aber auch Iteratoren. Das bedeutet, wir sind in der Lage, aus einem String ein zufälliges Zeichen zu holen oder ein zufälliges Element aus einer Liste oder einem Tupel:"
   ]
  },
  {
   "cell_type": "code",
   "execution_count": 52,
   "metadata": {},
   "outputs": [
    {
     "name": "stdout",
     "output_type": "stream",
     "text": [
      "d\n",
      "engineer\n",
      "bananas\n",
      "5\n"
     ]
    }
   ],
   "source": [
    "from random import choice\n",
    "professions = [\"scientist\", \"philosopher\", \"engineer\", \"priest\"]\n",
    "print(choice(\"abcdefghij\"))\n",
    "print(choice(professions))\n",
    "print(choice((\"apples\", \"bananas\", \"cherries\")))\n",
    "print(choice(range(10)))"
   ]
  },
  {
   "cell_type": "markdown",
   "metadata": {},
   "source": [
    "**choice** liefert zufällig ein Objekt aus einer nicht-leeren Sequenz, wobei die Chancen für die Elemente, ausgewählt zu werden, gleichmäßig verteilt sind. Für praktische Anwendungen benötigt man hier jedoch häufig eine andere (wählbare) Verteilung.\n",
    "\n",
    "### Stichproben mit Python\n",
    "\n",
    "\n",
    "Eine Sample oder Stichprobe kann als ein repräsentativer Teil einer größeren Gruppe angesehen werden, die wir \"Population\" nennen.\n",
    "\n",
    "Das Modul *numpy.random* beinhaltet die Funktion **random_sample**, die zufällige Float-Werte im halb-offenen Intervall [0.0, 1.0) liefert. Die Ergebnisse sind gleichmäßig über das angegebene Intervall verteilt. Die Funktion erwartet lediglich einen Parameter size, der die Shape der Ausgabe definiert. Wenn wir die size zum Beispiel mit (3, 4) angeben, erhalten wir ein Array mit der Shape (3, 4), das mit Zufallswerten gefüllt ist:"
   ]
  },
  {
   "cell_type": "code",
   "execution_count": 53,
   "metadata": {},
   "outputs": [
    {
     "name": "stdout",
     "output_type": "stream",
     "text": [
      "[[0.86735659 0.96041019 0.8755326  0.20525809]\n",
      " [0.26837425 0.80819829 0.0565973  0.35590454]\n",
      " [0.11146782 0.00121533 0.8012569  0.97131003]]\n"
     ]
    }
   ],
   "source": [
    "import numpy as np\n",
    "x = np.random.random_sample((3, 4))\n",
    "print(x)"
   ]
  },
  {
   "cell_type": "markdown",
   "metadata": {},
   "source": [
    "Wenn random_sample mit einem Integer-Wert aufgerufen wird, erhalten wir ein eindimensionales Array. Ein Integer-Wert bewirkt den gleichen Effekt, wie ein einfaches Tupel als Argument:"
   ]
  },
  {
   "cell_type": "code",
   "execution_count": 54,
   "metadata": {},
   "outputs": [
    {
     "name": "stdout",
     "output_type": "stream",
     "text": [
      "[0.20948972 0.09133032 0.89561959 0.26965431 0.21788863 0.09810542\n",
      " 0.17875787]\n",
      "[0.16669991 0.34497505 0.10858471 0.18790927 0.21620331 0.00563141\n",
      " 0.82445658]\n"
     ]
    }
   ],
   "source": [
    "x = np.random.random_sample(7)\n",
    "print(x)\n",
    "y = np.random.random_sample((7,))\n",
    "print(y)\n"
   ]
  },
  {
   "cell_type": "markdown",
   "metadata": {},
   "source": [
    "Es können ebenfalls Arrays aus einem beliebigen Intervall [a, b) generiert werden, wobei a kleiner als b sein muss. Das kann wie folgt aussehen:\n",
    "\n",
    "**(b - a) * random_sample() + a**\n",
    "\n",
    "Beispiel:"
   ]
  },
  {
   "cell_type": "code",
   "execution_count": 55,
   "metadata": {},
   "outputs": [
    {
     "name": "stdout",
     "output_type": "stream",
     "text": [
      "[[ 0.5335604   1.09583416 -2.42339495  0.54642748]\n",
      " [ 0.83127188 -1.08261434 -2.80214741 -2.38334769]\n",
      " [ 1.63096555  0.52832078 -0.02516575  1.66396767]]\n"
     ]
    }
   ],
   "source": [
    "a = -3.4\n",
    "b = 2\n",
    "A = (b - a) * np.random.random_sample((3, 4)) + a\n",
    "print(A)"
   ]
  },
  {
   "cell_type": "markdown",
   "metadata": {},
   "source": [
    "Das Standard-Modul *random* von Python hat eine allgemeinere Funktion sample, die Stichproben einer Population produziert. Die Population ist eine Sequenz, also beispielsweise eine Liste, Menge oder ein String.\n",
    "\n",
    "Die Syntax von sample:\n",
    "\n",
    "**sample(population, k)**\n",
    "\n",
    "Die Funktion erstellt eine Liste, die k Elemente aus der population beinhaltet. Die Ergebnisliste beinhaltet keine Duplikate, wenn in der Population keine Duplikate vorkommen.\n",
    "\n",
    "Wenn eine Sample aus einer Range von Integer-Werten ausgewählt werden soll, dann können -- oder besser sollten -- Sie *range* als Argument für die Population verwenden.\n",
    "\n",
    "Im folgenden Beispiel ziehen wir sechs Zahlen aus der Range zwischen 1 und 49 (inklusive). Das entspricht einer Lotto-Ziehung in Deutschland:"
   ]
  },
  {
   "cell_type": "code",
   "execution_count": 56,
   "metadata": {},
   "outputs": [
    {
     "name": "stdout",
     "output_type": "stream",
     "text": [
      "[1, 36, 10, 12, 43, 32]\n"
     ]
    }
   ],
   "source": [
    "import random\n",
    "print(random.sample(range(1, 50), 6))"
   ]
  },
  {
   "cell_type": "markdown",
   "metadata": {},
   "source": [
    "### Echte Zufallszahlen\n",
    "\n",
    "Zur Erzeugung echter Zufallszahlen kann man physikalische Phänomene nutzen, z. B. radioaktive Zerfallsprozesse oder das Rauschen elektronischer Bauelemente. Aber es geht auch einfacher. Beispielsweise durch Werfen einer oder mehrerer Münzen oder unter Benutzung von Würfeln. Diese Verfahren sind jedoch einerseits zeitaufwendig oder technisch kompliziert zu bewerkstelligen.\n",
    "\n",
    "Das **random**-Modul von Python liefert keine \"echten\" Zufallszahlen. Die meisten Programme liefern nur Zufallszahlen, die pseudozufällig sind. Die Zahlen werden in einer vorhersehbaren Art generiert, weil der verwendete Algorithmus deterministisch ist. Pseudozufallszahlen sind für viele Situation gut genug, aber sie sind nicht \"wirklich\" zufällig, wenn man beispielsweise Würfel- oder Lotterie-Ziehungen simulieren will."
   ]
  },
  {
   "cell_type": "markdown",
   "metadata": {},
   "source": [
    "### Seed/Startwert\n",
    "\n",
    "#### Random Seed\n",
    "\n",
    "Unter einem **\"Seed Key\"** oder einfach nur **Seed** versteht man den Startwert, mit dem ein Zufallszahlengenerator initialisiert wird. Startet man einen Algorithmus mit dem gleichen Seed-Wert, erhält man auch exakt die gleichen Pseudozufallszahlen. Zufällige Startwerte werden in vielen Programmiersprachen anhand des Systemstatus generiert, der meistens der Systemzeit entspricht.\n",
    "\n",
    "Wenn die Funktion *random.seed* mit None oder keinem Argument aufgerufen wird, wird der Seedwert aus der aktuellen Systemzeit oder einer anderen systemspezifischen Zufallsquelle generiert."
   ]
  },
  {
   "cell_type": "code",
   "execution_count": 57,
   "metadata": {},
   "outputs": [
    {
     "name": "stdout",
     "output_type": "stream",
     "text": [
      "2, 1, 5, 4, 4, 3, 2, 9, 2, 10, \n",
      "Nochmals die selben Zufallszahlen:\n",
      "2, 1, 5, 4, 4, 3, 2, 9, 2, 10, "
     ]
    }
   ],
   "source": [
    "import random\n",
    "random.seed(42)\n",
    "for _ in range(10):\n",
    "    print(random.randint(1, 10), end=\", \")\n",
    "    \n",
    "print(\"\\nNochmals die selben Zufallszahlen:\")\n",
    "random.seed(42)\n",
    "for _ in range(10):\n",
    "    print(random.randint(1, 10), end=\", \")"
   ]
  },
  {
   "cell_type": "markdown",
   "metadata": {},
   "source": [
    "Die *seed*-Funktion liefert eine deterministische Sequenz von Zufallszahlen. Die Sequenz kann beliebig wiederholt werden, um beispielsweise bestimmte Situationen zu debuggen oder bei einer Serie von Simulationen mit gleichen Startbedingungen. Bei Verwendung von *seed* ohne Argument ergeben sich unterschiedliche Zufallszahlen."
   ]
  },
  {
   "cell_type": "code",
   "execution_count": 58,
   "metadata": {},
   "outputs": [
    {
     "name": "stdout",
     "output_type": "stream",
     "text": [
      "5\n",
      "3\n",
      "1\n",
      "3\n",
      "2\n",
      "7\n",
      "10\n",
      "4\n",
      "5\n",
      "6\n",
      "\n",
      "Diesmal nicht die selben Zufallszahlen:\n",
      "2\n",
      "4\n",
      "3\n",
      "1\n",
      "6\n",
      "2\n",
      "8\n",
      "9\n",
      "6\n",
      "9\n"
     ]
    }
   ],
   "source": [
    "import random\n",
    "random.seed()\n",
    "for _ in range(10):\n",
    "    print(random.randint(1, 10))\n",
    "    \n",
    "print(\"\\nDiesmal nicht die selben Zufallszahlen:\")\n",
    "random.seed()\n",
    "for _ in range(10):\n",
    "    print(random.randint(1, 10))"
   ]
  },
  {
   "cell_type": "markdown",
   "metadata": {},
   "source": [
    "### Gauss'sche Normalverteilung\n",
    "\n",
    "Bei **random.gauss** und **random.normalvariate** handelt es sich um zwei verschiedene Implementierungen von Funktionen, die jeweils normalverteilte Zufallszahlen zurückliefern.\n",
    "\n",
    "Wir möchten nun 1000 Zufallszahlen zwischen 130 und 230 generieren, die eine Gausssche Verteilung aufweisen mit dem Erwartungswert mu = 180 und der Standardabweichung sigma = 30.\n",
    "\n",
    "Wenn wir uns die help-Information anschauen, sehen wir, dass der wesentliche Unterschied darin besteht, dass **gauss** etwas schneller ist und nicht Thread-sicher, während **random.normalvariate** Thread-sicher ist."
   ]
  },
  {
   "cell_type": "code",
   "execution_count": 59,
   "metadata": {},
   "outputs": [
    {
     "name": "stdout",
     "output_type": "stream",
     "text": [
      "\n",
      "Zufallszahlen:\n",
      "[202, 203, 184, 203, 148, 174, 200, 210, 229, 195, 173, 215, 203, 200, 165, 163, 215, 212, 164, 141, 206, 222, 179, 192, 186, 201, 186, 173, 164, 222, 181, 179, 180, 168, 162, 148, 145, 194, 178, 163, 204, 199, 131, 179, 192, 229, 216, 193, 187, 170, 187, 191, 200, 198, 194, 198, 194, 168, 161, 159, 131, 156, 171, 191, 195, 175, 163, 192, 200, 167, 195, 156, 211, 209, 186, 194, 216, 206, 213, 197, 188, 185, 205, 188, 194, 167, 214, 174, 166, 219, 211, 142, 192, 224, 219, 173, 214, 188, 182, 215]\n",
      "\n",
      "und deren Anzahlen:\n",
      "{202: 1, 203: 3, 184: 1, 148: 2, 174: 2, 200: 4, 210: 1, 229: 2, 195: 3, 173: 3, 215: 3, 165: 1, 163: 3, 212: 1, 164: 2, 141: 1, 206: 2, 222: 2, 179: 3, 192: 4, 186: 3, 201: 1, 181: 1, 180: 1, 168: 2, 162: 1, 145: 1, 194: 5, 178: 1, 204: 1, 199: 1, 131: 2, 216: 2, 193: 1, 187: 2, 170: 1, 191: 2, 198: 2, 161: 1, 159: 1, 156: 2, 171: 1, 175: 1, 167: 2, 211: 2, 209: 1, 213: 1, 197: 1, 188: 3, 185: 1, 205: 1, 214: 2, 166: 1, 219: 2, 142: 1, 224: 1, 182: 1}\n"
     ]
    }
   ],
   "source": [
    "from random import gauss\n",
    "n = 100\n",
    "values = []\n",
    "frequencies = {}\n",
    "while len(values) < n:\n",
    "    value = int(gauss(180, 30))\n",
    "    if 130 < value < 230:\n",
    "        frequencies[value] = frequencies.get(value, 0) + 1\n",
    "        values.append(value)\n",
    "print(\"\\nZufallszahlen:\")\n",
    "print (values)\n",
    "print(\"\\nund deren Anzahlen:\")\n",
    "print (frequencies)"
   ]
  },
  {
   "cell_type": "markdown",
   "metadata": {},
   "source": [
    "## Lesen und Schreiben von Daten-Dateien\n",
    "In Python und NumPy gibt es eine Vielzahl von Möglichkeiten, Daten zu lesen und zu schreiben. Wir wollen uns hier auf einige für uns wichtige konzentrieren.\n",
    "\n",
    "### Text-Dateien speichern mit savetxt\n",
    "\n",
    "Die ersten zwei Funktionen, die wir uns anschauen möchten, sind **savetxt** und **loadtxt**.\n",
    "\n",
    "Im folgenden einfachen Beispiel definieren wir ein Array x und speichern es als Text-Datei mit savetxt:"
   ]
  },
  {
   "cell_type": "code",
   "execution_count": 60,
   "metadata": {},
   "outputs": [],
   "source": [
    "import numpy as np\n",
    "x = np.array([[1, 2], \n",
    "              [3, 4],\n",
    "              [5, 6]], np.int32)\n",
    "np.savetxt(\"test.txt\", x)"
   ]
  },
  {
   "cell_type": "markdown",
   "metadata": {},
   "source": [
    "Da das Array aus Integern besteht, hätte man hier eher eine Datei erwartet, in der ganze Zahlen und nicht Float-Zahlen stehen. Man kann aber das Ausgabeformat selbst bestimmen. Im Folgenden speichern wir das Array in der Datei test2.txt mit drei Nachkommastellen und in der Datei test3.txt als Integers mit vorangestellten Leerzeichen, wenn die Anzahl der Stellen kleiner als 4 ist. Dafür übergeben wir einen Format-String an den Parameter fmt. Im vorigen Beispiel haben wir gesehen, dass der Default-Delimiter ein Leerzeichen ist. Wir können das Verhalten anpassen, indem wir einen String dem Parameter delimiter mitgeben. In den meisten Fällen wird dies ein einzelnes Zeichen sein. Jedoch kann ebenso eine ganze Zeichensequenz übergeben werden, z.B. ein Smiley \" :-)\":\n"
   ]
  },
  {
   "cell_type": "code",
   "execution_count": 61,
   "metadata": {},
   "outputs": [],
   "source": [
    "np.savetxt(\"test2.txt\", x, fmt=\"%2.3f\", delimiter=\",\")\n",
    "np.savetxt(\"test3.txt\", x, fmt=\"%04d\", delimiter=\" :-) \")\n"
   ]
  },
  {
   "cell_type": "markdown",
   "metadata": {},
   "source": [
    "### Text-Dateien laden mit loadtxt\n",
    "\n",
    "#### loadtxt mit und ohne Parameter (spezielle Trennzeichen)\n",
    "\n",
    "Jetzt werden wir die Datei \"test.txt\" einlesen, die wir im vorigen Unterkapitel erstellt haben. Auch die Dateien mit den Trennzeichen werden entsprechend eingelesen."
   ]
  },
  {
   "cell_type": "code",
   "execution_count": 62,
   "metadata": {},
   "outputs": [
    {
     "name": "stdout",
     "output_type": "stream",
     "text": [
      "[[1. 2.]\n",
      " [3. 4.]\n",
      " [5. 6.]]\n",
      "[[1. 2.]\n",
      " [3. 4.]\n",
      " [5. 6.]]\n",
      "[[1. 2.]\n",
      " [3. 4.]\n",
      " [5. 6.]]\n"
     ]
    }
   ],
   "source": [
    "# Einlesen ohne Trenner\n",
    "x = np.loadtxt(\"test.txt\")\n",
    "print(x)\n",
    "# Einlesen mit speziellem Trenner\n",
    "y = np.loadtxt(\"test2.txt\", delimiter=\",\")\n",
    "print(y)\n",
    "# Natürlich funktioniert das genauso mit Smiley\n",
    "z = np.loadtxt(\"test3.txt\", delimiter=\" :-) \")\n",
    "print(z)"
   ]
  },
  {
   "cell_type": "markdown",
   "metadata": {},
   "source": [
    "#### Selektives Einlesen von Spalten\n",
    "\n",
    "Häufig ist es so, dass man aus einer solchen Datei nur bestimmte Spalten einlesen will. Zu diesem Zweck übergibt man dem Parameter *usecols* ein Tupel mit den gewünschten Spaltenindizes. Dabei beginnt die Nummerierung wie üblich mit dem Index 0. Um die Wirkungsweise des Parameters *usecols* besser demonstrieren zu könnten, erzeugen und speichern wir zuerst ein Array mit 6 Spalten:"
   ]
  },
  {
   "cell_type": "code",
   "execution_count": 63,
   "metadata": {},
   "outputs": [
    {
     "name": "stdout",
     "output_type": "stream",
     "text": [
      "[[-10  -8   4   8   2  -1   8  -5  -2  -1]\n",
      " [ -6  -1   7  -5   8   9   4 -10  -8  -9]\n",
      " [ -3   8   0  -1  -7   2  -2   8  -1   4]\n",
      " [  5   1   7   3   7  -5   9   0  -2   8]]\n"
     ]
    }
   ],
   "source": [
    "import numpy as np\n",
    "Z = np.random.randint(-10, 10, size=(4,10))\n",
    "print(Z)\n",
    "np.savetxt(\"test3.txt\", Z, fmt=\"%1d\", delimiter=\" \")"
   ]
  },
  {
   "cell_type": "code",
   "execution_count": 64,
   "metadata": {},
   "outputs": [
    {
     "name": "stdout",
     "output_type": "stream",
     "text": [
      "[[-10.  -8.   8.]\n",
      " [ -6.  -1.   4.]\n",
      " [ -3.   8.  -2.]\n",
      " [  5.   1.   9.]]\n"
     ]
    }
   ],
   "source": [
    "y = np.loadtxt(\"test3.txt\", \n",
    "               delimiter=\" \", \n",
    "               usecols=(0, 1, 6))\n",
    "print(y)"
   ]
  },
  {
   "cell_type": "markdown",
   "metadata": {},
   "source": [
    "### Beispiele für das Einlesen von Messdaten aus CSV-Dateien\n",
    "Es ist zu beachten, dass einzulesende Daten zunächst Zeichenketten (Strings) repräsentieren, die (z.B. in integer oder float) umgewandelt werden müssen."
   ]
  },
  {
   "cell_type": "code",
   "execution_count": 65,
   "metadata": {
    "scrolled": true
   },
   "outputs": [
    {
     "name": "stdout",
     "output_type": "stream",
     "text": [
      "col= ['1.7', '10.003', '12.3', '2.0', '3', '4.1', '.45', '5.', '6.23', '7.01', '8', '9', '10', '23', '4', '5', '6', '7', '8', '9\\n']\n",
      "col1= [1.7, 10.003, 12.3, 2.0, 3.0, 4.1, 0.45, 5.0, 6.23, 7.01, 8.0, 9.0, 10.0, 23.0, 4.0, 5.0, 6.0, 7.0, 8.0, 9.0]\n",
      "col2= [3.4, 20.006, 24.6, 4.0, 6.0, 8.2, 0.9, 10.0, 12.46, 14.02, 16.0, 18.0, 20.0, 46.0, 8.0, 10.0, 12.0, 14.0, 16.0, 18.0]\n"
     ]
    }
   ],
   "source": [
    "# Einlesen von durch Komma getrennten Daten\n",
    "# aus einer Textdatei (ohne Zeilenumbruch)\n",
    "\n",
    "#CSV-Datei öffnen\n",
    "file=open(\"daten.txt\")\n",
    "\n",
    "#gesamte Datei einlesen\n",
    "content=file.read()\n",
    "\n",
    "#Datei schließen\n",
    "file.close()\n",
    "\n",
    "#Liste mit einzelnen Datensätzen erstellen\n",
    "dataset=content.split(\"/n\")\n",
    "\n",
    "#Datensätze durchlaufen\n",
    "for data in dataset:\n",
    "    #einzelne Spalten extrahieren\n",
    "    col=data.split(\",\")\n",
    "    \n",
    "col1=[float(x) for x in col]\n",
    "col2=[2*x for x in col1]    \n",
    "\n",
    "# Kontrollausdruck\n",
    "print (\"col=\",col)\n",
    "print (\"col1=\",col1)\n",
    "print (\"col2=\",col2)\n"
   ]
  },
  {
   "cell_type": "code",
   "execution_count": 66,
   "metadata": {},
   "outputs": [
    {
     "name": "stdout",
     "output_type": "stream",
     "text": [
      "A= [1.7, 10.003, 12.3, 2.0, 3.0, 4.1, 0.45, 5.0, 6.23, 7.01, 8.0, 9.0, 10.0, 23.0, 4.0, 5.0, 6.0, 7.0, 8.0, 9.0]\n",
      "A[6]= 0.45\n"
     ]
    }
   ],
   "source": [
    "# Einlesen von Daten zeilenweise aus einer Textdatei \n",
    "\n",
    "dateiname = \"daten_2.txt\"\n",
    "     \n",
    "a = []\n",
    "# Oeffnen der Datei im Lesemodus\n",
    "with open(dateiname, 'r') as f:\n",
    "        for line in f:\n",
    "            a.append(float(line))\n",
    "     \n",
    "print (\"A=\",a)\n",
    "print (\"A[6]=\",a[6])\n"
   ]
  },
  {
   "cell_type": "markdown",
   "metadata": {},
   "source": [
    "# Diagramme mit Matplotlib\n",
    "\n",
    "Matplotlib ist eine Bibliothek (Python-Modul) zum Plotten ähnlich GNUplot. Mittels Matplotlib kann man professionelle Diagramme und Darstellungen in verschiedenen Formaten erzeugen, die sich hervorragend zur Visualisierung der mittels NumPy oder SciPy berechneten Daten eignen."
   ]
  },
  {
   "cell_type": "markdown",
   "metadata": {},
   "source": [
    "### Ein erstes Beispiel\n",
    "\n",
    "Wir werden mit einem einfachen Graphen beginnen. Ein Graph in Matplotlib ist eine zwei- oder dreidimensionale Zeichnung, die mit Hilfe von Punkten, Kurven, Balken oder anderem einen Zusammenhang herstellt. Es gibt zwei Achsen: die horizontale x-Achse für die unabhängigen Werte und die vertikale y-Achse für die abhängigen Werte.\n",
    "\n",
    "Wir werden im Folgenden das Untermodul **pyplot** verwenden. pyplot stellt eine prozedurale Schnittstelle zur objektorientierten Plot-Bibliothek von Matplotlib zur Verfügung. Die Kommandos von pyplot sind so gewählt, dass sie sowohl in den Namen als auch in ihren Argumenten MATLAB ähnlich sind.\n",
    "\n",
    "Es ist allgemein üblich, **matplotlib.pyplot** in **plt** umzubenennen. In unserem ersten Beispiel werden wir die plot-Funktion von pyplot benutzen. Wir übergeben an die plot-Funktion eine Liste von Werten. plot betrachtet und benutzt die Werte dieser Liste als y-Werte. Die Indizes dieser Liste werden automatisch als x-Werte genommen."
   ]
  },
  {
   "cell_type": "code",
   "execution_count": 67,
   "metadata": {
    "scrolled": true
   },
   "outputs": [
    {
     "data": {
      "image/png": "[encoded data removed]",
      "text/plain": [
       "<Figure size 432x288 with 1 Axes>"
      ]
     },
     "metadata": {
      "needs_background": "light"
     },
     "output_type": "display_data"
    }
   ],
   "source": [
    "import matplotlib.pyplot as plt\n",
    "plt.plot([-1, -4.5, 16, 23, 15, 59])\n",
    "plt.show()"
   ]
  },
  {
   "cell_type": "markdown",
   "metadata": {},
   "source": [
    "Wir sehen einen zusammenhängenden Graphen, obwohl wir nur diskrete Werte für die Ordinate, allgemein auch als Y-Achse bezeichnet, zur Verfügung gestellt hatten. Als Werte für die Abszisse, also die X-Achse, wurden die Indizes genommen.\n",
    "\n",
    "Indem wir einen Formatstring beim Funktionsaufruf mitübergeben, können wir einen Graphen mit diskreten Werten erzeugen, in unserem Fall mit blauen Vollkreisen. Der Formatstring definiert, wie die diskreten Punkte dazustellen sind:"
   ]
  },
  {
   "cell_type": "code",
   "execution_count": 68,
   "metadata": {
    "scrolled": true
   },
   "outputs": [
    {
     "data": {
      "image/png": "[encoded data removed]",
      "text/plain": [
       "<Figure size 432x288 with 1 Axes>"
      ]
     },
     "metadata": {
      "needs_background": "light"
     },
     "output_type": "display_data"
    }
   ],
   "source": [
    "import matplotlib.pyplot as plt\n",
    "plt.plot([-1, -4.5, 16, 23, 15, 59], \"ob\")\n",
    "plt.show()"
   ]
  },
  {
   "cell_type": "markdown",
   "metadata": {},
   "source": [
    "Die folgenden Zeichen werden in einem Formatstring akzeptiert, um den Linienstil oder die Marker zu steuern:"
   ]
  },
  {
   "cell_type": "code",
   "execution_count": 69,
   "metadata": {},
   "outputs": [],
   "source": [
    "#Zeichen       Beschreibung\n",
    "#=============================================\n",
    "#'-'  (Bindestrich) durchgezogene Linie\n",
    "#'--'  (zwei Bindestriche) gestrichelte Linie\n",
    "#'-.' Strichpunkt-Linie\n",
    "#':' punktierte Linie\n",
    "#'.' Punkt-Marker\n",
    "#',' Pixel-Marker\n",
    "#'o' Kreis-Marker\n",
    "#'v' Dreiecks-Marker, Spitze nach unten\n",
    "#'^' Dreiecks-Marker, Spitze nach oben\n",
    "#'<' Dreiecks-Marker, Spitze nach links\n",
    "#'>' Dreiecks-Marker, Spitze nach rechs\n",
    "#'1' tri-runter-Marker\n",
    "#'2' tri-hoch-Marker\n",
    "#'3' tri-links Marker\n",
    "#'4' tri-rechts Marker\n",
    "#'s' quadratischer Marker\n",
    "#'p' fünfeckiger Marker\n",
    "#'*' Stern-Marker\n",
    "#'h' Sechseck-Marker1\n",
    "#'H' Sechseck-Marker2\n",
    "#'+' Plus-Marker\n",
    "#'x' x-Marker\n",
    "#'D' rautenförmiger Marker\n",
    "#'d' dünner rautenförmiger Marker\n",
    "#'|' Marker in Form einer vertikalen Linie\n",
    "#'_' Marker in Form einer horizontalen Liniw\n",
    "#==============================================="
   ]
  },
  {
   "cell_type": "markdown",
   "metadata": {},
   "source": [
    "Die folgenden Farbabkürzungen sind möglich:"
   ]
  },
  {
   "cell_type": "code",
   "execution_count": 70,
   "metadata": {},
   "outputs": [],
   "source": [
    "#==================\n",
    "#Zeichen    Farbe\n",
    "#==================\n",
    "#'b' blau\n",
    "#'g' grün\n",
    "#'r' rot\n",
    "#'c' cyan\n",
    "#'m' magenta\n",
    "#'y' gelb\n",
    "#'k' schwarz\n",
    "#'w' weiß\n",
    "#=================="
   ]
  },
  {
   "cell_type": "markdown",
   "metadata": {},
   "source": [
    "Natürlich kann man auch X-Werte an die Plot-Funktion übergeben. Im folgenden Beispiel übergeben wir eine Liste mit den Vielfachen von 3 zwischen 0 und 21 als X-Werte an plot:"
   ]
  },
  {
   "cell_type": "code",
   "execution_count": 71,
   "metadata": {},
   "outputs": [
    {
     "name": "stdout",
     "output_type": "stream",
     "text": [
      "[0, 3, 6, 9, 12, 15, 18, 21]\n"
     ]
    },
    {
     "data": {
      "image/png": "[encoded data removed]",
      "text/plain": [
       "<Figure size 432x288 with 1 Axes>"
      ]
     },
     "metadata": {
      "needs_background": "light"
     },
     "output_type": "display_data"
    }
   ],
   "source": [
    "import matplotlib.pyplot as plt\n",
    "# die X-Werte:\n",
    "days = list(range(0, 22, 3))\n",
    "print(days)\n",
    "# die Y-Werte:\n",
    "celsius_values = [25.6, 24.1, 26.7, 28.3, 27.5, 30.5, 32.8, 33.1]\n",
    "plt.plot(days, celsius_values,'bo')\n",
    "plt.show()"
   ]
  },
  {
   "cell_type": "markdown",
   "metadata": {},
   "source": [
    "#### Achsenbezeichnungen\n",
    "\n",
    "Wir können das Aussehen unseres Graphen verbessern, indem wir die Achsen mit Bezeichnungen versehen. Dazu benutzen wir die *ylabel-* und *xlabel-*Funktionen von pyplot."
   ]
  },
  {
   "cell_type": "code",
   "execution_count": 72,
   "metadata": {},
   "outputs": [
    {
     "data": {
      "image/png": "[encoded data removed]",
      "text/plain": [
       "<Figure size 432x288 with 1 Axes>"
      ]
     },
     "metadata": {
      "needs_background": "light"
     },
     "output_type": "display_data"
    }
   ],
   "source": [
    "import matplotlib.pyplot as plt\n",
    "days = list(range(1,9))\n",
    "celsius_values = [25.6, 24.1, 26.7, 28.3, 27.5, 30.5, 32.8, 33.1]\n",
    "plt.plot(days, celsius_values,'bo')\n",
    "plt.xlabel('Day')\n",
    "plt.ylabel('Degrees Celsius')\n",
    "plt.show()"
   ]
  },
  {
   "cell_type": "markdown",
   "metadata": {},
   "source": [
    "Wir können eine beliebige Anzahl von (x, y, fmt)-Gruppen in einer Plot-Funktion spezifizieren. Im folgenden Beispiel benutzen wir zwei verschiedene Listen mit Y-Werten:"
   ]
  },
  {
   "cell_type": "code",
   "execution_count": 73,
   "metadata": {},
   "outputs": [
    {
     "data": {
      "image/png": "[encoded data removed]",
      "text/plain": [
       "<Figure size 432x288 with 1 Axes>"
      ]
     },
     "metadata": {
      "needs_background": "light"
     },
     "output_type": "display_data"
    }
   ],
   "source": [
    "import matplotlib.pyplot as plt\n",
    "days = list(range(1,9))\n",
    "celsius_min = [19.6, 24.1, 26.7, 28.3, 27.5, 30.5, 32.8, 33.1]\n",
    "celsius_max = [24.8, 28.9, 31.3, 33.0, 34.9, 35.6, 38.4, 39.2]\n",
    "plt.xlabel('Day')\n",
    "plt.ylabel('Degrees Celsius')\n",
    "plt.plot(days, celsius_min,\n",
    "         days, celsius_min, \"oy\",\n",
    "         days, celsius_max, \n",
    "         days, celsius_max, \"<r\")\n",
    "plt.show()"
   ]
  },
  {
   "cell_type": "markdown",
   "metadata": {},
   "source": [
    "#### Abfragen und Ändern des Wertebereichs der Achsen\n",
    "\n",
    "Mit der Funktion *axis* lässt sich der Wertebereich einer Achse abfragen und ändern. Ruft man *axis* ohne Argumente auf, liefert sie den aktuellen Wertebereich einer Achse zurück:"
   ]
  },
  {
   "cell_type": "code",
   "execution_count": 74,
   "metadata": {},
   "outputs": [
    {
     "name": "stdout",
     "output_type": "stream",
     "text": [
      "The current limits for the axes are:\n",
      "(0.6499999999999999, 8.35, 18.62, 40.18)\n",
      "We set the axes to the following values:\n",
      "0 10 14 45\n"
     ]
    },
    {
     "data": {
      "image/png": "[encoded data removed]",
      "text/plain": [
       "<Figure size 432x288 with 1 Axes>"
      ]
     },
     "metadata": {
      "needs_background": "light"
     },
     "output_type": "display_data"
    }
   ],
   "source": [
    "import matplotlib.pyplot as plt\n",
    "days = list(range(1,9))\n",
    "celsius_min = [19.6, 24.1, 26.7, 28.3, 27.5, 30.5, 32.8, 33.1]\n",
    "celsius_max = [24.8, 28.9, 31.3, 33.0, 34.9, 35.6, 38.4, 39.2]\n",
    "plt.xlabel('Day')\n",
    "plt.ylabel('Degrees Celsius')\n",
    "plt.plot(days, celsius_min,\n",
    "         days, celsius_min, \"oy\",\n",
    "         days, celsius_max, \n",
    "         days, celsius_max, \"or\")\n",
    "print(\"The current limits for the axes are:\")        \n",
    "print(plt.axis())\n",
    "print(\"We set the axes to the following values:\")\n",
    "xmin, xmax, ymin, ymax = 0, 10, 14, 45\n",
    "print(xmin, xmax, ymin, ymax)\n",
    "plt.axis([xmin, xmax, ymin, ymax])\n",
    "plt.show()"
   ]
  },
  {
   "cell_type": "markdown",
   "metadata": {},
   "source": [
    "#### linspace zur Definition von X-Werten\n",
    "\n",
    "Im folgenden Beispiel werden wir die NumPy-Funktion *linspace* verwenden. *linspace* wird dazu benutzt, gleichmäßig verteilte Werte innerhalb eines spezifizierten Intervalls zu erzeugen."
   ]
  },
  {
   "cell_type": "code",
   "execution_count": 75,
   "metadata": {},
   "outputs": [
    {
     "data": {
      "image/png": "[encoded data removed]",
      "text/plain": [
       "<Figure size 432x288 with 1 Axes>"
      ]
     },
     "metadata": {
      "needs_background": "light"
     },
     "output_type": "display_data"
    }
   ],
   "source": [
    "import numpy as np\n",
    "import matplotlib.pyplot as plt\n",
    "X = np.linspace(0, 2 * np.pi, 50, endpoint=True)\n",
    "F = np.sin(X)\n",
    "plt.plot(X,F)\n",
    "startx, endx = -0.1, 2*np.pi + 0.1\n",
    "starty, endy = -1.1, 1.1\n",
    "plt.axis([startx, endx, starty, endy])\n",
    "plt.show()"
   ]
  },
  {
   "cell_type": "markdown",
   "metadata": {},
   "source": [
    "#### Linienstil ändern\n",
    "\n",
    "Der Linienstil eines Plots kann durch die Parameter **linestyle** oder ls der plot-Funktion beeinflusst werden. Sie können auf einen der folgenden Werte gesetzt werden:\n",
    "\n",
    "'-', '--', '-.', ':', 'None', ' ', ''\n",
    "\n",
    "Wir können mit **linewidth**, wie der Name impliziert, die Linienstärke oder Liniendicke setzen:"
   ]
  },
  {
   "cell_type": "code",
   "execution_count": 76,
   "metadata": {},
   "outputs": [
    {
     "data": {
      "image/png": "[encoded data removed]",
      "text/plain": [
       "<Figure size 432x288 with 1 Axes>"
      ]
     },
     "metadata": {
      "needs_background": "light"
     },
     "output_type": "display_data"
    }
   ],
   "source": [
    "import numpy as np\n",
    "import matplotlib.pyplot as plt\n",
    "X = np.linspace(0, 2 * np.pi, 50, endpoint=True)\n",
    "F1 = 3 * np.sin(X)\n",
    "F2 = np.sin(2*X)\n",
    "F3 = 0.3 * np.sin(X)\n",
    "F4 = np.cos(X)\n",
    "plt.plot(X, F1, color=\"blue\", linewidth=2.5, linestyle=\"-\")\n",
    "plt.plot(X, F2, color=\"red\", linewidth=1.5, linestyle=\"--\")\n",
    "plt.plot(X, F3, color=\"green\", linewidth=2, linestyle=\":\")\n",
    "plt.plot(X, F4, color=\"grey\", linewidth=2, linestyle=\"-.\")\n",
    "plt.show()"
   ]
  },
  {
   "cell_type": "markdown",
   "metadata": {},
   "source": [
    "#### Flächen einfärben\n",
    "\n",
    "Mit der pyplot-Funktion *fill_between* ist es möglich, Flächen zwischen Kurven oder Achsen zu schraffieren oder einzufärben. Im folgenden Beispiel füllen wir die Flächen zwischen der X-Achse und dem Graph der Funktion sin(2*X):"
   ]
  },
  {
   "cell_type": "code",
   "execution_count": 77,
   "metadata": {},
   "outputs": [
    {
     "data": {
      "image/png": "[encoded data removed]",
      "text/plain": [
       "<Figure size 432x288 with 1 Axes>"
      ]
     },
     "metadata": {
      "needs_background": "light"
     },
     "output_type": "display_data"
    }
   ],
   "source": [
    "import numpy as np\n",
    "import matplotlib.pyplot as plt\n",
    "n = 256\n",
    "X = np.linspace(-np.pi,np.pi,n,endpoint=True)\n",
    "Y = np.sin(2*X)\n",
    "plt.plot (X, Y, color='blue', alpha=1.00)\n",
    "plt.fill_between(X, 0, Y, color='blue', alpha=.1)\n",
    "plt.show()"
   ]
  },
  {
   "cell_type": "code",
   "execution_count": 78,
   "metadata": {},
   "outputs": [],
   "source": [
    "# Die allgemeine Syntax von fill_between:\n",
    "\n",
    "# fill_between(x, y1, y2=0, where=None, interpolate=False, **kwargs)\n",
    "\n",
    "# Die Parameter von fill_between:\n",
    "\n",
    "# Parameter   Bedeutung\n",
    "# x           Ein Array mit N Elementen mit X-Werten\n",
    "# y1          Ein Array mit N Elementen (oder ein Skalar) von Y-Daten\n",
    "# y2          Ein Array mit N Elementen (oder ein Skalar) von Y-Daten\n",
    "# where       Wenn auf None gesetzt, wird per Default alles gefüllt. Wenn es nicht auf \n",
    "#             None gesetzt wird, so wird ein numpy boolean-Array erwartet mit N Elementen. \n",
    "#             Es werden nur dann die Regionen eingefärbt, bei denen where==True ist.\n",
    "# interpolate Wenn True, so wird zwischen zwei Linien interpoliert, um den genauen Schnittpunkt\n",
    "#             zu finden. Andernfalls werden die Start- und Endwerte nur als explizite Werte \n",
    "#             auf der Region erscheinen.\n",
    "# kwargs      Schlüsselwort-Argumente, die an PolyCollection übergeben werden."
   ]
  },
  {
   "cell_type": "markdown",
   "metadata": {},
   "source": [
    "Im nächsten Beispiel füllen wir die Flächen zwischen den Funktionen F1 und F2:"
   ]
  },
  {
   "cell_type": "code",
   "execution_count": 79,
   "metadata": {},
   "outputs": [
    {
     "data": {
      "image/png": "[encoded data removed]",
      "text/plain": [
       "<Figure size 432x288 with 1 Axes>"
      ]
     },
     "metadata": {
      "needs_background": "light"
     },
     "output_type": "display_data"
    }
   ],
   "source": [
    "import numpy as np\n",
    "import matplotlib.pyplot as plt\n",
    "X = np.linspace(0, 2 * np.pi, 50, endpoint=True)\n",
    "F1 = 3 * np.sin(X)\n",
    "F2 = np.sin(2*X)\n",
    "plt.plot(X, F1, color=\"blue\", linewidth=2.5, linestyle=\"-\")\n",
    "plt.plot(X, F2, color=\"red\", linewidth=1.5, linestyle=\"--\")\n",
    "plt.fill_between(X, F1, F2, color='blue', alpha=.1)\n",
    "plt.show()"
   ]
  },
  {
   "cell_type": "markdown",
   "metadata": {},
   "source": [
    "### Histogramme\n",
    "Ein Histogramm ist eine grafische Repräsentation einer Verteilung von numerischen Daten. Rechtecke mit der gleichen Breite haben Höhen, die den zugehörigen Anzahlen (Frequenzen) entsprechen.\n",
    "\n",
    "Wenn wir ein Histogramm konstruieren, beginnen wir mit der Verteilung des Bereichs der möglichen x-Werte in gewöhnlich gleich große und benachbarte Klassen bzw. Intervalle, die man in Englisch Bins nennt. Die Daten werden nun entsprechend ihrer Größe in diese Bins verteilt. Für jede Klasse bzw. Intervall werden dann Rechtecke gezeichnet, deren Höhe bzw. Flächeninhalt der relativen oder absoluten Häufigkeit der Klasse entspricht.\n",
    "\n",
    "Wir schreiben nun ein Python-Programm, indem wir Zufallszahlen erzeugen und aus diesen ein Histogramm erzeugen:"
   ]
  },
  {
   "cell_type": "code",
   "execution_count": 80,
   "metadata": {},
   "outputs": [
    {
     "data": {
      "image/png": "[encoded data removed]",
      "text/plain": [
       "<Figure size 432x288 with 1 Axes>"
      ]
     },
     "metadata": {
      "needs_background": "light"
     },
     "output_type": "display_data"
    }
   ],
   "source": [
    "import matplotlib.pyplot as plt\n",
    "import numpy as np\n",
    "gaussian_numbers = np.random.normal(size=10000)\n",
    "plt.hist(gaussian_numbers)\n",
    "plt.title(\"Gaussian Histogram\")\n",
    "plt.xlabel(\"Wert\")\n",
    "plt.ylabel(\"Häufigkeit\")\n",
    "plt.show()"
   ]
  },
  {
   "cell_type": "markdown",
   "metadata": {},
   "source": [
    "Was bedeuten die Parameter **n, bins, patches:**  \n",
    "    **n:** Anzahl der Elemente in jedem bin, **bins:** linker Rand jedes bin, **patches:** alle Rechtecke des Histogramms  \n",
    "        "
   ]
  },
  {
   "cell_type": "code",
   "execution_count": 81,
   "metadata": {
    "scrolled": true
   },
   "outputs": [
    {
     "name": "stdout",
     "output_type": "stream",
     "text": [
      "n=  [9.000e+00 1.230e+02 7.330e+02 2.156e+03 3.247e+03 2.484e+03 1.026e+03\n",
      " 2.020e+02 1.800e+01 2.000e+00] 10000.0\n",
      "[-3.8622437  -3.02819233 -2.19414097 -1.36008961 -0.52603824  0.30801312\n",
      "  1.14206448  1.97611585  2.81016721  3.64421857  4.47826994]\n",
      "<a list of 10 Patch objects>\n"
     ]
    },
    {
     "data": {
      "image/png": "[encoded data removed]",
      "text/plain": [
       "<Figure size 432x288 with 1 Axes>"
      ]
     },
     "metadata": {
      "needs_background": "light"
     },
     "output_type": "display_data"
    }
   ],
   "source": [
    "n, bins, patches = plt.hist(gaussian_numbers)\n",
    "print(\"n= \",n,sum(n))\n",
    "print(bins)\n",
    "print(patches)"
   ]
  },
  {
   "cell_type": "code",
   "execution_count": null,
   "metadata": {},
   "outputs": [],
   "source": []
  }
 ],
 "metadata": {
  "kernelspec": {
   "display_name": "Python 3",
   "language": "python",
   "name": "python3"
  },
  "language_info": {
   "codemirror_mode": {
    "name": "ipython",
    "version": 3
   },
   "file_extension": ".py",
   "mimetype": "text/x-python",
   "name": "python",
   "nbconvert_exporter": "python",
   "pygments_lexer": "ipython3",
   "version": "3.7.1"
  }
 },
 "nbformat": 4,
 "nbformat_minor": 2
}
