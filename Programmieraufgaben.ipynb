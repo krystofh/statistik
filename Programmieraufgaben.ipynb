{
 "cells": [
  {
   "cell_type": "markdown",
   "metadata": {},
   "source": [
    "# Statistik I - Übungsaufgaben"
   ]
  },
  {
   "cell_type": "markdown",
   "metadata": {},
   "source": [
    "### Aufgabe 1\n",
    "Berechnen Sie die Wahrscheinlichkeit für das Auftreten von mindestens einer 6 beim viermaligen Würfeln mittels Simulation"
   ]
  },
  {
   "cell_type": "code",
   "execution_count": 2,
   "metadata": {},
   "outputs": [
    {
     "name": "stdout",
     "output_type": "stream",
     "text": [
      "      Genauigkeit des Zufallszahlengenerators\n",
      "\n",
      "Anzahl Würfe insgesamt: 40000\n",
      "Davon: \n",
      "   1: 6698\n",
      "   2: 6642\n",
      "   3: 6569\n",
      "   4: 6785\n",
      "   5: 6767\n",
      "   6: 6539\n",
      "Relative Häufigkeiten: [0.16745  0.16605  0.164225 0.169625 0.169175 0.163475]\n",
      "\n",
      "      Versuchsauswertung\n",
      "\n",
      "Mindestens eine 6: 5119 von 10000\n",
      "Wahrscheinlichkeit, dass bei 4 Würfen mindestens eine 6 dabei ist: 0.5119\n"
     ]
    }
   ],
   "source": [
    "import random\n",
    "import numpy as np\n",
    "ANZAHL_VERSUCHE = 10000   # Anzahl Versuche in der Simulation\n",
    "ANZAHL_WUERFE = 4         # Anzahl der Wuerfe in einem Versuch\n",
    "\n",
    "simulation = np.empty(shape=(ANZAHL_VERSUCHE, ANZAHL_WUERFE), dtype = object)  # Empty array for the experiments\n",
    "\n",
    "# Simulation\n",
    "for v in range(0, ANZAHL_VERSUCHE):\n",
    "    # 1 Versuch\n",
    "    versuch = np.zeros(ANZAHL_WUERFE, dtype = int)      # 1 Experiment array initialisieren\n",
    "    \n",
    "    for i in range(0,ANZAHL_WUERFE):\n",
    "        random_number = random.randint(1,6)   # Würfelwurf\n",
    "        versuch[i] = random_number\n",
    "    #print(versuch)\n",
    "    simulation[v] = versuch\n",
    "    \n",
    "# Anschauen der Simulation\n",
    "occurencies = np.zeros(6, dtype = int)\n",
    "for n in range(1,7):\n",
    "    occurencies[n-1] = len(simulation[simulation == n])   # save number of occurencies\n",
    "print(\"      Genauigkeit des Zufallszahlengenerators\\n\")\n",
    "print(\"Anzahl Würfe insgesamt: \"+ str(sum(occurencies)))  # Anzahl der Wuerfe insgesamt\n",
    "print(\"Davon: \\n\"+\"   1: \" + str(occurencies[0]) + \"\\n   2: \" + str(occurencies[1])+ \\\n",
    "      \"\\n   3: \" + str(occurencies[2]) + \"\\n   4: \" + str(occurencies[3]) + \"\\n   5: \" + str(occurencies[4])+\\\n",
    "      \"\\n   6: \" + str(occurencies[5]))\n",
    "print(\"Relative Häufigkeiten: \" + str(occurencies/sum(occurencies)))\n",
    "\n",
    "#print(simulation[0])\n",
    "#print(np.count_nonzero(simulation[0]==6))\n",
    "\n",
    "# Auswertung der Simulation\n",
    "aufgetreten = np.zeros(ANZAHL_VERSUCHE, dtype = int)  # array with '6' occurencies in the respective experiment\n",
    "for it in range(0, ANZAHL_VERSUCHE):\n",
    "    aufgetreten[it] = np.count_nonzero(simulation[it]==6)  # simulation==6 returns an array with booleans \n",
    "    #                                                     (whether the element satisfies the condition or not)\n",
    "    #                                                      np.count_nonzero counts the Trues in the array\n",
    "mind_einmal = aufgetreten[aufgetreten > 0]\n",
    "print(\"\\n      Versuchsauswertung\\n\")\n",
    "print(\"Mindestens eine 6: \" + str(len(mind_einmal)) + \" von \" + str(ANZAHL_VERSUCHE))\n",
    "print(\"Wahrscheinlichkeit, dass bei \" + str(ANZAHL_WUERFE) + \" Würfen mindestens eine 6 dabei ist: \" + \\\n",
    "      str(len(mind_einmal)/ANZAHL_VERSUCHE))"
   ]
  },
  {
   "cell_type": "markdown",
   "metadata": {},
   "source": [
    "#### Einige wichtigen Befehle\n",
    "\n",
    "- ```np.empty(shape=(ANZAHL_VERSUCHE, ANZAHL_WUERFE), dtype = object)```: ein leeres Array von einem shape initialisieren\n",
    "- ```np.zeros(4, dtype = int) ``` : array vom Typ integer\n",
    "- ```random.randint(1,6)```: random integer aus einem Intervall\n",
    "- ```aufgetreten[aufgetreten > 0]``` : array slicing mit einer Bedingung\n",
    "- ```np.count_nonzero(simulation[it]==6)``` : Anzahl der Elemente aus einem Array, für die eine Bedingung erfüllt ist\n"
   ]
  },
  {
   "cell_type": "markdown",
   "metadata": {},
   "source": [
    "### Aufgabe 2\n",
    "\n",
    "Berechnen Sie die Wahrcheinlichkeit für das Auftreten von mindestens einer \"Doppel-6\" beim 24-maligen Würfeln mit 2 Würfeln mittels Simulation!"
   ]
  },
  {
   "cell_type": "code",
   "execution_count": 33,
   "metadata": {},
   "outputs": [
    {
     "name": "stdout",
     "output_type": "stream",
     "text": [
      "\n",
      "Ereignis aufgetreten: 4937/10000\n",
      "Wahrscheinlichkeit: 0.4937\n"
     ]
    }
   ],
   "source": [
    "import random\n",
    "import numpy as np\n",
    "\n",
    "ANZAHL_SIMULATIONEN = 10000   # Anzahl der Simulationen, die durchzuführen sind, um die Wahrscheinlichkeit zu bekommen\n",
    "ANZAHL_VERSUCHE = 24          # Anzahl Versuche in der Simulation\n",
    "ANZAHL_WUERFEL = 2            # Anzahl der Wuerfel in einem Versuch/Wurf\n",
    "DEBUG = False                 # Print more info\n",
    "\n",
    "simulationen = np.empty(ANZAHL_SIMULATIONEN, dtype = object)  # leeres array. Enthält True/False ob die Doppelsechs in den jeweiligen 24 Würfen geworfen wurde\n",
    "simulation = np.empty(shape=(ANZAHL_VERSUCHE, ANZAHL_WUERFEL), dtype = object)  # Empty array for the experiments\n",
    "\n",
    "for s in range(0, ANZAHL_SIMULATIONEN):\n",
    "    \n",
    "    # Simulation\n",
    "    for v in range(0, ANZAHL_VERSUCHE):\n",
    "        # 1 Versuch - hier ein Wurf mit zwei Wuerfeln\n",
    "        versuch = np.zeros(ANZAHL_WUERFEL, dtype = int)      # 1 Experiment array initialisieren\n",
    "\n",
    "        for i in range(0,ANZAHL_WUERFEL):  # zwei Wuerfel sind wie zweimal werfen\n",
    "            random_number = random.randint(1,6)   # Würfelwurf\n",
    "            versuch[i] = random_number\n",
    "        #print(versuch)\n",
    "        simulation[v] = versuch\n",
    "\n",
    "    # Auswertung der Simulation\n",
    "    aufgetreten = np.zeros(ANZAHL_VERSUCHE, dtype = int)  # array with '6' occurencies in the respective experiment\n",
    "    for it in range(0, ANZAHL_VERSUCHE):\n",
    "        aufgetreten[it] = np.count_nonzero(simulation[it]==6)  # simulation==6 returns an array with booleans \n",
    "        #                                                     (whether the element satisfies the condition or not)\n",
    "        #                                                      np.count_nonzero counts the Trues in the array\n",
    "    \n",
    "    doppelsechs = np.count_nonzero(aufgetreten[aufgetreten == 2])    \n",
    "    if(doppelsechs >= 1): # wenn mindestens einmal die Doppel-Sechs geworfen wurde in den 24 Wuerfen\n",
    "        simulationen[s] = True\n",
    "        \n",
    "    if(DEBUG):\n",
    "        print(aufgetreten)       \n",
    "        print(\"Doppelsechs geworfen: \" + str(doppelsechs) + \" mal\")\n",
    "\n",
    "# Wahrscheinlichkeit berechnen\n",
    "doppelsechs_gesamt = np.count_nonzero(simulationen)\n",
    "print(\"\\nEreignis aufgetreten: \" + str(doppelsechs_gesamt) + \"/\" + str(ANZAHL_SIMULATIONEN))\n",
    "print(\"Wahrscheinlichkeit: \" + str(doppelsechs_gesamt/ANZAHL_SIMULATIONEN))"
   ]
  },
  {
   "cell_type": "code",
   "execution_count": null,
   "metadata": {},
   "outputs": [],
   "source": []
  }
 ],
 "metadata": {
  "kernelspec": {
   "display_name": "Python 3",
   "language": "python",
   "name": "python3"
  },
  "language_info": {
   "codemirror_mode": {
    "name": "ipython",
    "version": 3
   },
   "file_extension": ".py",
   "mimetype": "text/x-python",
   "name": "python",
   "nbconvert_exporter": "python",
   "pygments_lexer": "ipython3",
   "version": "3.7.1"
  }
 },
 "nbformat": 4,
 "nbformat_minor": 2
}
